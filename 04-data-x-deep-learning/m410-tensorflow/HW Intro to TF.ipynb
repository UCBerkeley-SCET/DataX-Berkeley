{
 "cells": [
  {
   "cell_type": "markdown",
   "metadata": {},
   "source": [
    "# HW Assignment: Introduction to TensorFlow"
   ]
  },
  {
   "cell_type": "code",
   "execution_count": null,
   "metadata": {},
   "outputs": [],
   "source": [
    "# load the dependencies\n",
    "import numpy as np\n",
    "import tensorflow as tf\n",
    "\n",
    "# check whether tf version is 2.x\n",
    "tf.__version__"
   ]
  },
  {
   "cell_type": "markdown",
   "metadata": {},
   "source": [
    "# Problem 1: Identify and fix the problem in the addition operation of the tensors"
   ]
  },
  {
   "cell_type": "code",
   "execution_count": null,
   "metadata": {},
   "outputs": [],
   "source": [
    "a = tf.constant(1.)\n",
    "b = tf.constant(2.)\n",
    "c = tf.constant(np.array(3.))"
   ]
  },
  {
   "cell_type": "code",
   "execution_count": null,
   "metadata": {},
   "outputs": [],
   "source": [
    "# identify and fix the problem with following addition opperation for the defined constants\n",
    "\n",
    "a + b + c"
   ]
  },
  {
   "cell_type": "markdown",
   "metadata": {},
   "source": [
    "# Problem 2: Computing Gradients the TensorFlow way!"
   ]
  },
  {
   "cell_type": "code",
   "execution_count": null,
   "metadata": {},
   "outputs": [],
   "source": [
    "# following is a non optimized simple way to calculate gradients for a given function\n",
    "\n",
    "# function definition =>\n",
    "def g(x, y):\n",
    "    \n",
    "    return 5 * x ** 2 + 3 * x * y\n",
    "\n",
    "# for (x,y) = (1,1) the partial derivative of the function g(x,y) would be 13 and 3. "
   ]
  },
  {
   "cell_type": "code",
   "execution_count": null,
   "metadata": {},
   "outputs": [],
   "source": [
    "# complete the following missing codes to compute the gradients using tf.GradientTape()\n",
    "\n",
    "x = tf.Variable(1.)\n",
    "y = tf.Variable(1.)\n",
    "\n",
    "with tf.GradientTape() as tape:\n",
    "    \n",
    "    z =     # fill the missing code\n",
    "\n",
    "# calculate gradients\n",
    "grads = tape.gradient(   ) # fill the arguments\n",
    "\n",
    "print('Gradients:')\n",
    "grads"
   ]
  }
 ],
 "metadata": {
  "kernelspec": {
   "display_name": "Python 3",
   "language": "python",
   "name": "python3"
  },
  "language_info": {
   "codemirror_mode": {
    "name": "ipython",
    "version": 3
   },
   "file_extension": ".py",
   "mimetype": "text/x-python",
   "name": "python",
   "nbconvert_exporter": "python",
   "pygments_lexer": "ipython3",
   "version": "3.7.3"
  }
 },
 "nbformat": 4,
 "nbformat_minor": 2
}
