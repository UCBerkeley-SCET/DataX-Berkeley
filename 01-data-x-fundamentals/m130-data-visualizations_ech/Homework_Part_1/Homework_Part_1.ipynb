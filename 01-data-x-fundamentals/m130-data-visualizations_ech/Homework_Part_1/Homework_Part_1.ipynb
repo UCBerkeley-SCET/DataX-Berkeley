{
 "cells": [
  {
   "cell_type": "markdown",
   "metadata": {},
   "source": [
    "# Homework\n",
    "## Data Visualization\n",
    "> #### IEOR 135/290, Data-X: Applied Data Ventures\n",
    "> #### Author: Joshua Rafael Sanchez | UC Berkeley, B.S. IEOR, '20\n",
    "> In collaboration with Elias Castro Hernandez, Ikalaq Sidhu.\n",
    "> Email: joshuarafael@berkeley.edu"
   ]
  },
  {
   "cell_type": "markdown",
   "metadata": {},
   "source": [
    "### 1. Graph reproduction (in Matplotlib).\n",
    "> The goal is to reproduce the graph as closely as possible to the image below.  The graph below is made using the libraries `Python`, `NumPy`, `Pandas` and `Matplotlib`:"
   ]
  },
  {
   "cell_type": "markdown",
   "metadata": {},
   "source": [
    "![](answer.png?raw=true)"
   ]
  },
  {
   "cell_type": "markdown",
   "metadata": {},
   "source": [
    "> The data files are called: \n",
    "- `google_data.txt`,\n",
    "- `ny_temps.txt`,\n",
    "- & `yahoo_data.txt`.\n",
    "\n",
    "> They are placed in a folder called \"data\" your working directory.  __Run__ the following cell to download the data and packages associated with this homework. "
   ]
  },
  {
   "cell_type": "code",
   "execution_count": 2,
   "metadata": {},
   "outputs": [],
   "source": [
    "# start by loading data and packages\n",
    "import pandas as pd\n",
    "import numpy as np\n",
    "import matplotlib.pyplot as plt\n",
    "google_data = pd.read_csv('data/google_data.txt',sep=\"\\t\") # Note data seperator is a tab character (\\t)\n",
    "yahoo_data = pd.read_csv('data/yahoo_data.txt',sep=\"\\t\")\n",
    "ny_temps = pd.read_csv('data/ny_temps.txt',sep='\\t')"
   ]
  },
  {
   "cell_type": "markdown",
   "metadata": {},
   "source": [
    "#### Your Answer. \n",
    "> Write your code below.  Try to make your graph as similar as possible to the image above.  (It doesn't have to be exactly perfect, but it should include at least the three plots, the corresponding axes, and legend so that the plots are understandable.) \n",
    "\n",
    "> Feel free to make more cells as you wish.\n",
    "\n",
    "> __Tip:__ Run `pd.DataFrame.head(5)` on the DataFrame to help understand what the columns are."
   ]
  },
  {
   "cell_type": "code",
   "execution_count": null,
   "metadata": {},
   "outputs": [],
   "source": [
    "# Write code here:\n"
   ]
  },
  {
   "cell_type": "markdown",
   "metadata": {},
   "source": [
    "### 2. Graph reproduction (in Seaborn).\n",
    "> Now, try to reproduce the graph using the `Seaborn` library. (It doesn't have to be exactly perfect, but it should include at least the three plots, the corresponding axes, and legend so that the plots are understandable.)\n",
    "\n",
    "> You should be using the same libraries above: `Python`, `NumPy`, `Pandas` and `Matplotlib`, but this time, incorporate `Seaborn`.  `Seaborn` should have features which make the graph more appealing, both visually and quantitatively."
   ]
  },
  {
   "cell_type": "markdown",
   "metadata": {},
   "source": [
    "#### Your Answer. \n",
    "> Write your code below.  Again, make more cells as you see fit."
   ]
  },
  {
   "cell_type": "code",
   "execution_count": null,
   "metadata": {},
   "outputs": [],
   "source": []
  }
 ],
 "metadata": {
  "kernelspec": {
   "display_name": "Python 3",
   "language": "python",
   "name": "python3"
  },
  "language_info": {
   "codemirror_mode": {
    "name": "ipython",
    "version": 3
   },
   "file_extension": ".py",
   "mimetype": "text/x-python",
   "name": "python",
   "nbconvert_exporter": "python",
   "pygments_lexer": "ipython3",
   "version": "3.6.8"
  }
 },
 "nbformat": 4,
 "nbformat_minor": 2
}
