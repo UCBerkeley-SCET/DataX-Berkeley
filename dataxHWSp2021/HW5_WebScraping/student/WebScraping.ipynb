{
 "cells": [
  {
   "cell_type": "code",
   "execution_count": null,
   "metadata": {
    "deletable": false,
    "editable": false
   },
   "outputs": [],
   "source": [
    "# Initialize Otter Grader\n",
    "import otter\n",
    "grader = otter.Notebook()"
   ]
  },
  {
   "cell_type": "markdown",
   "metadata": {
    "id": "Tftuyn6UVjyb"
   },
   "source": [
    "![data-x](https://raw.githubusercontent.com/afo/data-x-plaksha/master/imgsource/dx_logo.png)\n",
    "\n",
    "___\n",
    "\n",
    "#### NAME:\n",
    "\n",
    "#### STUDENT ID:\n",
    "___\n"
   ]
  },
  {
   "cell_type": "markdown",
   "metadata": {
    "id": "7K3nPYHpVQum"
   },
   "source": [
    "# **HW5: Web Scraping**\n",
    "**(Total 60 points)**\n",
    "\n",
    "In this homework, you will work on some web scraping exercises. Before you continue, make sure you have gone through the web scraping materials on the course web page. Specifically, check this [video](https://www.youtube.com/watch?v=T4zh_Qw0Ny4&feature=youtu.be) and this [notebook](https://github.com/scetx/datax/blob/master/03-data-x-data-handling/m310-tools-webscraping/nb-m310-tools-webscraping.ipynb) to get familiar with the basics of web scraping."
   ]
  },
  {
   "cell_type": "markdown",
   "metadata": {
    "id": "1PQf3cQDcwyc"
   },
   "source": [
    "## 1. Presidential Debates \n",
    "**(total 40 points)**"
   ]
  },
  {
   "cell_type": "markdown",
   "metadata": {
    "collapsed": true,
    "id": "KPWP4smKVQu1"
   },
   "source": [
    "Your first task is to scrape presidential debates from the Commission on Presidential Debates [website](http://www.debates.org/index.php?page=debate-transcripts).\n",
    "\n",
    "To do this, you are not allowed to manually look up the URLs that you need, instead you have to scrape them. The root url to be scraped is the one listed above, namely: http://www.debates.org/index.php?page=debate-transcripts\n",
    "\n",
    "\n",
    "1. By using `requests` and `BeautifulSoup`, find all the links/URLs on the website that link to the transcript of **Third Presidential Debates**.\n",
    "2. When you have the list of the URLs, your task is to create a **DataFrame** with some statistics (see an example of the output below):\n",
    "    1. Scrape the title of each link and use that as the column name in your DataFrame. \n",
    "    2. Count how long the transcript of the debate is (that is the number of characters in the transcript string). Feel free to include `\\` characters in your count, but remove any breakline characters, i.e. `\\n`. You will get credit if your count is within +/- 10% of our result.\n",
    "    3. Count how many times the word **war** is used in the different debates. Note that you have to convert the text in a smart way (to not count the word **warranty** for example, but counting **war.**, **war!**, **war,** **War**, etc.\n",
    "    4. Also scrape the most used word in each of the debates, and write how many times it is used. Note that you have to use the same strategy as in C in order to do this.\n",
    "    \n",
    "The first column of the output should look like something similar to the result below:\n",
    "    \n",
    "<img src='./FigQ1.PNG' width=\"500\">\n",
    "\n",
    "**Tips:**\n",
    "\n",
    "___\n",
    "\n",
    "In order to generate this DataFrame, it can be useful to work with Regular Expressions and explore some methods like `.strip(), .replace(), .find(), .count(), .lower()` etc. Both are very powerful tools to do string processing in Python. To count common words for example we can use a `Counter` object and a Regular expression pattern for only words. Read more about Regular Expressions [here](https://docs.python.org/3/howto/regex.html)."
   ]
  },
  {
   "cell_type": "code",
   "execution_count": 1,
   "metadata": {
    "id": "Vhq_fgKBVQu2"
   },
   "outputs": [],
   "source": [
    "## Load the required libraries\n",
    "import requests\n",
    "import bs4 as bs\n",
    "import pandas as pd"
   ]
  },
  {
   "cell_type": "markdown",
   "metadata": {
    "deletable": false,
    "editable": false,
    "id": "qWwPcOCEVQu4"
   },
   "source": [
    "**Q1.1) (4 points)** Write a command to request the data from http://www.debates.org/index.php?page=debate-transcripts. Store the **content** in a variable called `original`.\n",
    "\n",
    "<!--\n",
    "BEGIN QUESTION\n",
    "name: q11\n",
    "manual: false\n",
    "points: 4\n",
    "-->"
   ]
  },
  {
   "cell_type": "code",
   "execution_count": 2,
   "metadata": {
    "id": "ohrmczNPVQu4"
   },
   "outputs": [],
   "source": [
    "root_url = 'http://www.debates.org/index.php?page=debate-transcripts'\n",
    "\n",
    "## Your code here\n",
    "original = ...\n",
    "\n",
    "print(original)"
   ]
  },
  {
   "cell_type": "code",
   "execution_count": null,
   "metadata": {
    "deletable": false,
    "editable": false
   },
   "outputs": [],
   "source": [
    "grader.check(\"q11\")"
   ]
  },
  {
   "cell_type": "markdown",
   "metadata": {
    "deletable": false,
    "editable": false,
    "id": "phN2fo8yVQu7"
   },
   "source": [
    "**Q1.2) (4 points)** Use the `original` variable to create a `BeautifulSoup` object.\n",
    "\n",
    "<!--\n",
    "BEGIN QUESTION\n",
    "name: q12\n",
    "manual: false\n",
    "points: 4\n",
    "-->"
   ]
  },
  {
   "cell_type": "code",
   "execution_count": 4,
   "metadata": {
    "id": "hn3Q7KkWVQu8"
   },
   "outputs": [],
   "source": [
    "## Your code here\n",
    "soup = ..."
   ]
  },
  {
   "cell_type": "code",
   "execution_count": null,
   "metadata": {
    "deletable": false,
    "editable": false
   },
   "outputs": [],
   "source": [
    "grader.check(\"q12\")"
   ]
  },
  {
   "cell_type": "markdown",
   "metadata": {},
   "source": [
    "Let's take a look at how the scraped website looks like."
   ]
  },
  {
   "cell_type": "code",
   "execution_count": 6,
   "metadata": {
    "id": "rXjkWnNqVQu9",
    "outputId": "149fcc78-6072-418b-8676-49de065a9c7f"
   },
   "outputs": [],
   "source": [
    "## Run this cell, no need to modify\n",
    "soup.prettify"
   ]
  },
  {
   "cell_type": "markdown",
   "metadata": {
    "deletable": false,
    "editable": false,
    "id": "HBaAgDSdVQu9"
   },
   "source": [
    "**Q1.3) (6 points)** Extract all the `a` links containing the word `Third`, **except** for the debate in 1992. Store the results in a list called `urls`.\n",
    "\n",
    "<!--\n",
    "BEGIN QUESTION\n",
    "name: q13\n",
    "manual: false\n",
    "points: 6\n",
    "-->"
   ]
  },
  {
   "cell_type": "code",
   "execution_count": 7,
   "metadata": {
    "id": "Kx0jMCD4VQu-",
    "outputId": "b34a37b1-291d-40ac-b038-f8d96ae0b830"
   },
   "outputs": [],
   "source": [
    "urls = []\n",
    "\n",
    "for i in soup.find_all('a'):\n",
    "## Your code here \n",
    "..."
   ]
  },
  {
   "cell_type": "code",
   "execution_count": null,
   "metadata": {
    "deletable": false,
    "editable": false
   },
   "outputs": [],
   "source": [
    "grader.check(\"q13\")"
   ]
  },
  {
   "cell_type": "markdown",
   "metadata": {
    "deletable": false,
    "editable": false,
    "id": "NDrfIrymVQu_"
   },
   "source": [
    "**Q1.4) (6 points)** Create a NaN valued DataFrame and assign it to a variable called `df`. Set only the column names and the indices for this DataFrame. Your output should be similar to the result below. \n",
    "\n",
    "> **Note:** There should be more than 2 columns in your DataFrame.\n",
    "\n",
    "<img src=\"./FigQ1d.PNG\">\n",
    "\n",
    "<!--\n",
    "BEGIN QUESTION\n",
    "name: q14\n",
    "manual: false\n",
    "points: 6\n",
    "-->"
   ]
  },
  {
   "cell_type": "code",
   "execution_count": 10,
   "metadata": {
    "id": "DH99_VjRVQvA",
    "outputId": "e2243467-e863-4823-d6a9-ae57c63f9889"
   },
   "outputs": [],
   "source": [
    "index_values = ['Debate char length', 'war_count','most_common_w', 'most_common_w_count']\n",
    "\n",
    "## Your code here\n",
    "df = ...\n",
    "\n",
    "## Display your dataframe\n",
    "df"
   ]
  },
  {
   "cell_type": "code",
   "execution_count": null,
   "metadata": {
    "deletable": false,
    "editable": false
   },
   "outputs": [],
   "source": [
    "grader.check(\"q14\")"
   ]
  },
  {
   "cell_type": "markdown",
   "metadata": {
    "deletable": false,
    "editable": false,
    "id": "RJCuPLy0VQvD"
   },
   "source": [
    "**Q1.5) (20 points)** Now fill in the DataFrame `df` as described at the beginning of this section by going through the list `urls` and compute the  corresponding statistics. Note that 'war' is not case-sensitive when counting. Also, remember to ignore the special characters '\\n' when counting char length.\n",
    "\n",
    "> **Hint:** You may find **`re`** library and **`Counter()`** function useful. \n",
    "\n",
    "<!--\n",
    "BEGIN QUESTION\n",
    "name: q15\n",
    "manual: false\n",
    "points: 20\n",
    "-->"
   ]
  },
  {
   "cell_type": "code",
   "execution_count": 14,
   "metadata": {
    "id": "BKjNxxyFVQvE",
    "outputId": "cf2ff052-ee2d-44bc-c9d2-9a9190b88941"
   },
   "outputs": [],
   "source": [
    "from collections import Counter\n",
    "import re\n",
    "\n",
    "for idx, url in enumerate(urls):\n",
    "## Your code here\n",
    "...\n",
    "\n",
    "## Display your dataframe    \n",
    "df"
   ]
  },
  {
   "cell_type": "code",
   "execution_count": null,
   "metadata": {
    "deletable": false,
    "editable": false
   },
   "outputs": [],
   "source": [
    "grader.check(\"q15\")"
   ]
  },
  {
   "cell_type": "markdown",
   "metadata": {
    "id": "muuusxQ2VQvP"
   },
   "source": [
    "    \n",
    "## 2. Download and read in a specific line from many datasets\n",
    "**(total 20 points)**\n",
    "\n",
    "Scrape the first 27 datasets from this [URL](http://people.sc.fsu.edu/~jburkardt/datasets/regression/) (i.e.`x01.txt` - `x27.txt`). Then, save the 5th line in each dataset, which should be the name of the dataset author (get rid of the `#` symbol, the white spaces, and the comma at the end). \n",
    "\n",
    "Count how many times (with a Python function) each author is the reference for one of the 27 datasets. Showcase your results, sorted, with the most common author name first and how many times their name has appeared in the datasets. Use a Pandas DataFrame to show your results like the example below.\n",
    "\n",
    "<img src=\"./FigQ2.PNG\">"
   ]
  },
  {
   "cell_type": "code",
   "execution_count": 25,
   "metadata": {
    "id": "z1dOyHoaVQvQ"
   },
   "outputs": [],
   "source": [
    "## Run this cell, no need to modify\n",
    "data_names = []\n",
    "# Create a list of file names\n",
    "for i in range(1,28):\n",
    "    data_names.append('x'+str(i).zfill(2)+'.txt')\n",
    "    \n",
    "print(data_names)"
   ]
  },
  {
   "cell_type": "markdown",
   "metadata": {
    "deletable": false,
    "editable": false,
    "id": "Mau7a2WwVQvR"
   },
   "source": [
    "**Q2.1) (12 points)** Now that we have the file names, scrape and pick the **5th line** in each dataset. Store the name as key and the count as value into the dictionary `count`.\n",
    "\n",
    "<!--\n",
    "BEGIN QUESTION\n",
    "name: q21\n",
    "manual: false\n",
    "points: 12\n",
    "-->"
   ]
  },
  {
   "cell_type": "code",
   "execution_count": 26,
   "metadata": {
    "id": "HW5JhiA5VQvS",
    "outputId": "ec6f6588-4c5b-42b2-f932-f93693c6096c"
   },
   "outputs": [],
   "source": [
    "count = {}\n",
    "\n",
    "for n in data_names:\n",
    "## Your code here\n",
    "...\n",
    "    \n",
    "print(count)"
   ]
  },
  {
   "cell_type": "code",
   "execution_count": null,
   "metadata": {
    "deletable": false,
    "editable": false
   },
   "outputs": [],
   "source": [
    "grader.check(\"q21\")"
   ]
  },
  {
   "cell_type": "markdown",
   "metadata": {
    "deletable": false,
    "editable": false,
    "id": "kmYBSGzjVQvT"
   },
   "source": [
    "**Q2.2) (5 points)** Create a DataFrame called `df` similar to the example above using the dictionary `count`. This DataFrame should have only one column called 'Counts' and the row indices should be the authors name.\n",
    "\n",
    "<!--\n",
    "BEGIN QUESTION\n",
    "name: q22\n",
    "manual: false\n",
    "points: 5\n",
    "-->"
   ]
  },
  {
   "cell_type": "code",
   "execution_count": 30,
   "metadata": {
    "id": "Fx8a3eUgVQvT",
    "outputId": "717b0256-acc6-4725-adfc-18a00d116534"
   },
   "outputs": [],
   "source": [
    "## Your code here\n",
    "df = ...\n",
    "\n",
    "## Display your dataframe\n",
    "df"
   ]
  },
  {
   "cell_type": "code",
   "execution_count": null,
   "metadata": {
    "deletable": false,
    "editable": false
   },
   "outputs": [],
   "source": [
    "grader.check(\"q22\")"
   ]
  },
  {
   "cell_type": "markdown",
   "metadata": {
    "id": "FMkuol3WVQvV"
   },
   "source": [
    "Run the cell below to set the index name of this DataFrame to `Authors`."
   ]
  },
  {
   "cell_type": "code",
   "execution_count": 32,
   "metadata": {
    "id": "18yRdYIUVQvV",
    "outputId": "d7d28a20-3f14-4a38-d347-8db0d3f03b5c"
   },
   "outputs": [],
   "source": [
    "## Run this cell, no need to modify\n",
    "df.index.name = 'Authors'\n",
    "\n",
    "## Display your dataframe\n",
    "df"
   ]
  },
  {
   "cell_type": "markdown",
   "metadata": {
    "deletable": false,
    "editable": false,
    "id": "fCWgsmNWVQvW"
   },
   "source": [
    "**Q2.3) (3 points)** Sort the `Counts` column in descending order. Make sure your dataframe `df` is modified.\n",
    "<!--\n",
    "BEGIN QUESTION\n",
    "name: q23\n",
    "manual: false\n",
    "points: 3\n",
    "-->"
   ]
  },
  {
   "cell_type": "code",
   "execution_count": 33,
   "metadata": {
    "id": "wbSbbOEmVQvX",
    "outputId": "9ee03f59-6016-4a40-c387-d4af573c62dd",
    "scrolled": true
   },
   "outputs": [],
   "source": [
    "## Your code here\n",
    "...\n",
    "\n",
    "## Display your dataframe\n",
    "df"
   ]
  },
  {
   "cell_type": "code",
   "execution_count": null,
   "metadata": {
    "deletable": false,
    "editable": false
   },
   "outputs": [],
   "source": [
    "grader.check(\"q23\")"
   ]
  },
  {
   "cell_type": "markdown",
   "metadata": {
    "collapsed": true,
    "id": "EE55MvYjVQvX"
   },
   "source": [
    "Congratulations! You have finished this homework."
   ]
  },
  {
   "cell_type": "markdown",
   "metadata": {
    "deletable": false,
    "editable": false
   },
   "source": [
    "# Submit\n",
    "Make sure you have run all cells in your notebook in order before running the cell below, so that all images/graphs appear in the output.\n",
    "**Please save before submitting!**"
   ]
  },
  {
   "cell_type": "code",
   "execution_count": null,
   "metadata": {
    "deletable": false,
    "editable": false
   },
   "outputs": [],
   "source": [
    "# Save your notebook first, then run this cell to create a pdf for your reference."
   ]
  }
 ],
 "metadata": {
  "colab": {
   "name": "HW5_WebScraping.ipynb",
   "provenance": []
  },
  "kernel_info": {
   "name": "data-x"
  },
  "kernelspec": {
   "display_name": "Python 3",
   "language": "python",
   "name": "python3"
  },
  "language_info": {
   "codemirror_mode": {
    "name": "ipython",
    "version": 3
   },
   "file_extension": ".py",
   "mimetype": "text/x-python",
   "name": "python",
   "nbconvert_exporter": "python",
   "pygments_lexer": "ipython3",
   "version": "3.8.5"
  },
  "nteract": {
   "version": "0.7.1"
  }
 },
 "nbformat": 4,
 "nbformat_minor": 1
}
