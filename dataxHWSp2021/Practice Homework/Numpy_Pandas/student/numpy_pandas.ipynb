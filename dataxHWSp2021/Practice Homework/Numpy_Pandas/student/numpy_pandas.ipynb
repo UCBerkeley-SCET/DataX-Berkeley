{
 "cells": [
  {
   "cell_type": "code",
   "execution_count": null,
   "id": "smooth-temple",
   "metadata": {
    "deletable": false,
    "editable": false
   },
   "outputs": [],
   "source": [
    "# Initialize Otter Grader\n",
    "import otter\n",
    "grader = otter.Notebook()"
   ]
  },
  {
   "cell_type": "markdown",
   "id": "white-century",
   "metadata": {},
   "source": [
    "![data-x](https://raw.githubusercontent.com/afo/data-x-plaksha/master/imgsource/dx_logo.png)"
   ]
  },
  {
   "cell_type": "markdown",
   "id": "incident-president",
   "metadata": {},
   "source": [
    "___\n",
    "\n",
    "#### NAME:\n",
    "\n",
    "#### STUDENT ID:\n",
    "___"
   ]
  },
  {
   "cell_type": "markdown",
   "id": "considered-samuel",
   "metadata": {},
   "source": [
    "# Part I - NumPy Introduction"
   ]
  },
  {
   "cell_type": "code",
   "execution_count": 1,
   "id": "freelance-express",
   "metadata": {},
   "outputs": [],
   "source": [
    "# Load required modules\n",
    "import numpy as np"
   ]
  },
  {
   "cell_type": "markdown",
   "id": "amateur-gasoline",
   "metadata": {},
   "source": [
    "## Question 1 - NumPy Array Operations"
   ]
  },
  {
   "cell_type": "markdown",
   "id": "individual-increase",
   "metadata": {
    "deletable": false,
    "editable": false
   },
   "source": [
    "<br>\n",
    "\n",
    "**1a) Create two numpy arrays called** ```a``` **and** ```b``` **where** ```a``` **should be all integers between 42-51 (inclusive), and** ```b``` **should be ten evenly spaced numbers between 1-6 (inclusive). Print** ```a``` **and** ```b```\n",
    "\n",
    "<!--\n",
    "BEGIN QUESTION\n",
    "name: q1a\n",
    "manual: false\n",
    "points: 1\n",
    "-->"
   ]
  },
  {
   "cell_type": "code",
   "execution_count": 2,
   "id": "apart-number",
   "metadata": {
    "colab": {},
    "colab_type": "code",
    "id": "RYaAV-KWwVcF",
    "outputId": "b148182c-a5fd-41a3-9848-6de5f3678f17"
   },
   "outputs": [],
   "source": [
    "# your code here\n",
    "..."
   ]
  },
  {
   "cell_type": "code",
   "execution_count": null,
   "id": "incorporate-quilt",
   "metadata": {
    "deletable": false,
    "editable": false
   },
   "outputs": [],
   "source": [
    "grader.check(\"q1a\")"
   ]
  },
  {
   "cell_type": "markdown",
   "id": "hybrid-characterization",
   "metadata": {
    "deletable": false,
    "editable": false
   },
   "source": [
    "<br>\n",
    "\n",
    "**1b) [Cube](https://numpy.org/doc/stable/reference/routines.math.html) (i.e. raise to the power of 3) all the elements in both** ```a``` **and** ```b``` **(element-wise). Store the results in two new arrays called** ```cubed_a``` **and** ```cubed_b```**. Print** ```cubed_a``` **and** ```cubed_b```\n",
    "\n",
    "<!--\n",
    "BEGIN QUESTION\n",
    "name: q1b\n",
    "manual: false\n",
    "points: 1\n",
    "-->"
   ]
  },
  {
   "cell_type": "code",
   "execution_count": 7,
   "id": "immune-contemporary",
   "metadata": {
    "tags": []
   },
   "outputs": [],
   "source": [
    "# your code here\n",
    "...\n"
   ]
  },
  {
   "cell_type": "code",
   "execution_count": null,
   "id": "acoustic-rehabilitation",
   "metadata": {
    "deletable": false,
    "editable": false
   },
   "outputs": [],
   "source": [
    "grader.check(\"q1b\")"
   ]
  },
  {
   "cell_type": "markdown",
   "id": "straight-chemistry",
   "metadata": {
    "deletable": false,
    "editable": false
   },
   "source": [
    "<br>\n",
    "\n",
    "**1c) [Add](https://numpy.org/doc/stable/reference/routines.math.html) the two cubed arrays (e.g.** ```[1,2] + [3,4] = [4,6]```**) and store the result in an array called** ```c```**. Print** ```c```\n",
    "\n",
    "<!--\n",
    "BEGIN QUESTION\n",
    "name: q1c\n",
    "manual: false\n",
    "points: 1\n",
    "-->"
   ]
  },
  {
   "cell_type": "code",
   "execution_count": 12,
   "id": "ethical-portuguese",
   "metadata": {
    "tags": []
   },
   "outputs": [],
   "source": [
    "# your code here\n",
    "..."
   ]
  },
  {
   "cell_type": "code",
   "execution_count": null,
   "id": "removed-plane",
   "metadata": {
    "deletable": false,
    "editable": false
   },
   "outputs": [],
   "source": [
    "grader.check(\"q1c\")"
   ]
  },
  {
   "cell_type": "markdown",
   "id": "laden-nightlife",
   "metadata": {
    "deletable": false,
    "editable": false
   },
   "source": [
    "<br>\n",
    "\n",
    "**1d) [Sum](https://numpy.org/doc/stable/reference/routines.math.html) the elements with even indices of** ```c``` **and store the result in a variable called** ```d```**. Print** ```d```\n",
    "\n",
    "<!--\n",
    "BEGIN QUESTION\n",
    "name: q1d\n",
    "manual: false\n",
    "points: 1\n",
    "-->"
   ]
  },
  {
   "cell_type": "code",
   "execution_count": 15,
   "id": "alone-smoke",
   "metadata": {
    "colab": {},
    "colab_type": "code",
    "id": "vxnHmer6wVcS",
    "outputId": "07422bde-d80c-4401-9fe0-d08f415abe56",
    "tags": []
   },
   "outputs": [],
   "source": [
    "# your code here\n",
    "..."
   ]
  },
  {
   "cell_type": "code",
   "execution_count": null,
   "id": "logical-arthur",
   "metadata": {
    "deletable": false,
    "editable": false
   },
   "outputs": [],
   "source": [
    "grader.check(\"q1d\")"
   ]
  },
  {
   "cell_type": "markdown",
   "id": "neutral-cassette",
   "metadata": {
    "deletable": false,
    "editable": false
   },
   "source": [
    "<br>\n",
    "\n",
    "**1e) Take the element-wise [square root](https://numpy.org/doc/stable/reference/routines.math.html) of the** ```c``` **and store the result in an array called** ```e```**. Print** ```e```\n",
    "\n",
    "<!--\n",
    "BEGIN QUESTION\n",
    "name: q1e\n",
    "manual: false\n",
    "points: 1\n",
    "-->"
   ]
  },
  {
   "cell_type": "code",
   "execution_count": 18,
   "id": "tight-trauma",
   "metadata": {
    "tags": []
   },
   "outputs": [],
   "source": [
    "# your code here\n",
    "..."
   ]
  },
  {
   "cell_type": "code",
   "execution_count": null,
   "id": "smooth-challenge",
   "metadata": {
    "deletable": false,
    "editable": false
   },
   "outputs": [],
   "source": [
    "grader.check(\"q1e\")"
   ]
  },
  {
   "cell_type": "markdown",
   "id": "protective-replica",
   "metadata": {
    "colab_type": "text",
    "deletable": false,
    "editable": false,
    "id": "tClN_KLOwVca"
   },
   "source": [
    "<br>\n",
    "\n",
    "**1f) [Append](https://numpy.org/doc/stable/reference/routines.array-manipulation.html)** ```b``` **to** ```a```, **[reshape](https://numpy.org/doc/stable/reference/routines.array-manipulation.html) the appended array so that it is a 4x5, 2D array and store the results in a variable called** ```m```**. Print** ```m```\n",
    "\n",
    "<!--\n",
    "BEGIN QUESTION\n",
    "name: q1f\n",
    "manual: false\n",
    "points: 1\n",
    "-->"
   ]
  },
  {
   "cell_type": "code",
   "execution_count": 21,
   "id": "precious-injury",
   "metadata": {
    "colab": {},
    "colab_type": "code",
    "id": "gViYRHLYwVcb",
    "outputId": "1297dacd-36a1-4637-b648-e370ec624ea3",
    "tags": []
   },
   "outputs": [],
   "source": [
    "# your code here\n",
    "..."
   ]
  },
  {
   "cell_type": "code",
   "execution_count": null,
   "id": "relevant-nicaragua",
   "metadata": {
    "deletable": false,
    "editable": false
   },
   "outputs": [],
   "source": [
    "grader.check(\"q1f\")"
   ]
  },
  {
   "cell_type": "markdown",
   "id": "alone-jackson",
   "metadata": {
    "colab_type": "text",
    "deletable": false,
    "editable": false,
    "id": "xlN4zLY-wVce"
   },
   "source": [
    "<br>\n",
    "\n",
    "**1g) Extract the third and the fourth column of the** ```m``` **matrix. Store the resulting 4x2 matrix in a new variable called** ```m2```**. Print** ```m2```\n",
    "\n",
    "<!--\n",
    "BEGIN QUESTION\n",
    "name: q1g\n",
    "manual: false\n",
    "points: 1\n",
    "-->"
   ]
  },
  {
   "cell_type": "code",
   "execution_count": 24,
   "id": "automatic-ferry",
   "metadata": {
    "colab": {},
    "colab_type": "code",
    "id": "DR8rJzSnwVce",
    "outputId": "eaa1f0b4-bbdc-4134-acd9-144f26aff820",
    "scrolled": true,
    "tags": []
   },
   "outputs": [],
   "source": [
    "# your code here\n",
    "..."
   ]
  },
  {
   "cell_type": "code",
   "execution_count": null,
   "id": "falling-muslim",
   "metadata": {
    "deletable": false,
    "editable": false
   },
   "outputs": [],
   "source": [
    "grader.check(\"q1g\")"
   ]
  },
  {
   "cell_type": "markdown",
   "id": "nervous-academy",
   "metadata": {
    "colab_type": "text",
    "deletable": false,
    "editable": false,
    "id": "DqVr3xKmwVci"
   },
   "source": [
    "<br>\n",
    "\n",
    "**1h) Take the [dot product](https://numpy.org/doc/stable/reference/routines.array-manipulation.html) of** ```m``` **and** ```m2```**. Store the results in a matrix called** ```m3```**. Print** ```m3```\n",
    "\n",
    ">**Note:** the Dot product of two matrices is given by\n",
    "\n",
    "$$\\large{A\\cdot B = A^{T}B}$$\n",
    "\n",
    "<br>\n",
    "\n",
    "<!--\n",
    "BEGIN QUESTION\n",
    "name: q1h\n",
    "manual: false\n",
    "points: 2\n",
    "-->"
   ]
  },
  {
   "cell_type": "code",
   "execution_count": 27,
   "id": "extended-intranet",
   "metadata": {
    "colab": {},
    "colab_type": "code",
    "id": "x15Fdc1GwVcj",
    "outputId": "8f4249ed-a113-48ec-e234-fa301ba77c9a",
    "tags": []
   },
   "outputs": [],
   "source": [
    "# your code here\n",
    "..."
   ]
  },
  {
   "cell_type": "code",
   "execution_count": null,
   "id": "steady-class",
   "metadata": {
    "deletable": false,
    "editable": false
   },
   "outputs": [],
   "source": [
    "grader.check(\"q1h\")"
   ]
  },
  {
   "cell_type": "markdown",
   "id": "steady-vulnerability",
   "metadata": {
    "colab_type": "text",
    "deletable": false,
    "editable": false,
    "id": "VoHxFMETwVcm"
   },
   "source": [
    "<br>\n",
    "\n",
    "**1i) [Round](https://numpy.org/doc/stable/reference/routines.math.html) the** ```m3``` **matrix to three decimal points. Store the result in place and print the new** ```m3```\n",
    "\n",
    "<!--\n",
    "BEGIN QUESTION\n",
    "name: q1i\n",
    "manual: false\n",
    "points: 1\n",
    "-->"
   ]
  },
  {
   "cell_type": "code",
   "execution_count": 30,
   "id": "desirable-curtis",
   "metadata": {
    "colab": {},
    "colab_type": "code",
    "id": "HvL4WKVzwVcu",
    "outputId": "e7b0a45c-23e8-4644-f3f8-85bcdf57dc4a",
    "scrolled": false,
    "tags": []
   },
   "outputs": [],
   "source": [
    "# your code here\n",
    "..."
   ]
  },
  {
   "cell_type": "code",
   "execution_count": null,
   "id": "numeric-manchester",
   "metadata": {
    "deletable": false,
    "editable": false
   },
   "outputs": [],
   "source": [
    "grader.check(\"q1i\")"
   ]
  },
  {
   "cell_type": "markdown",
   "id": "economic-limit",
   "metadata": {},
   "source": [
    "<br>\n",
    "\n",
    "___\n",
    "\n",
    "## Question 2 - NumPy and Masks"
   ]
  },
  {
   "cell_type": "markdown",
   "id": "built-papua",
   "metadata": {
    "deletable": false,
    "editable": false
   },
   "source": [
    "<br>\n",
    "\n",
    "**2a) Create an array called** ```f``` **where the values are** ```cos(x)``` **for** ```x``` **from $0$ to $\\pi$ with 50 [equally spaced values](https://numpy.org/doc/stable/reference/routines.array-creation.html) (inclusive). Print** ```f```\n",
    "\n",
    "<!--\n",
    "BEGIN QUESTION\n",
    "name: q2a\n",
    "manual: false\n",
    "points: 1\n",
    "-->"
   ]
  },
  {
   "cell_type": "code",
   "execution_count": 33,
   "id": "broken-allen",
   "metadata": {
    "tags": []
   },
   "outputs": [],
   "source": [
    "# your code here\n",
    "..."
   ]
  },
  {
   "cell_type": "code",
   "execution_count": null,
   "id": "secret-antenna",
   "metadata": {
    "deletable": false,
    "editable": false
   },
   "outputs": [],
   "source": [
    "grader.check(\"q2a\")"
   ]
  },
  {
   "cell_type": "markdown",
   "id": "organized-mayor",
   "metadata": {
    "deletable": false,
    "editable": false
   },
   "source": [
    "<br>\n",
    "\n",
    "**2b) Use a [mask](https://numpy.org/doc/stable/reference/maskedarray.html) to get an array that is** ```True``` **when** ```f >= 1/2``` **and** ```False``` **when** ```f < 1/2```**. Store the result in an array called** ```g```**. Print** ```g```\n",
    "\n",
    "<!--\n",
    "BEGIN QUESTION\n",
    "name: q2b\n",
    "manual: false\n",
    "points: 1\n",
    "-->"
   ]
  },
  {
   "cell_type": "code",
   "execution_count": 37,
   "id": "accurate-forty",
   "metadata": {
    "tags": []
   },
   "outputs": [],
   "source": [
    "# your code here\n",
    "..."
   ]
  },
  {
   "cell_type": "code",
   "execution_count": null,
   "id": "deluxe-scenario",
   "metadata": {
    "deletable": false,
    "editable": false
   },
   "outputs": [],
   "source": [
    "grader.check(\"q2b\")"
   ]
  },
  {
   "cell_type": "markdown",
   "id": "solved-affair",
   "metadata": {
    "deletable": false,
    "editable": false
   },
   "source": [
    "<br>\n",
    "\n",
    "**2c) Create an array called** ```h``` **that has only those values where** ```f>= 1/2```**. Print** ```h```\n",
    "\n",
    "<!--\n",
    "BEGIN QUESTION\n",
    "name: q2c\n",
    "manual: false\n",
    "points: 1\n",
    "-->"
   ]
  },
  {
   "cell_type": "code",
   "execution_count": 40,
   "id": "periodic-confirmation",
   "metadata": {
    "tags": []
   },
   "outputs": [],
   "source": [
    "# your code here\n",
    "..."
   ]
  },
  {
   "cell_type": "code",
   "execution_count": null,
   "id": "enclosed-hunger",
   "metadata": {
    "deletable": false,
    "editable": false
   },
   "outputs": [],
   "source": [
    "grader.check(\"q2c\")"
   ]
  },
  {
   "cell_type": "markdown",
   "id": "warming-picture",
   "metadata": {},
   "source": [
    "# Part II - Pandas Introduction"
   ]
  },
  {
   "cell_type": "code",
   "execution_count": 43,
   "id": "working-biography",
   "metadata": {},
   "outputs": [],
   "source": [
    "# Load required modules\n",
    "import numpy as np\n",
    "import pandas as pd"
   ]
  },
  {
   "cell_type": "markdown",
   "id": "protective-pavilion",
   "metadata": {},
   "source": [
    "#### This assignment includes data from an external source. For your reference, here is the information about the original source.\n",
    ">Data source: http://www.fao.org/nr/water/aquastat/data/query/index.html<br>\n",
    ">Data, units:<br>\n",
    ">* GDP, current USD (CPI adjusted)<br>\n",
    ">* NRI, $mm/yr$<br>\n",
    ">* Population density, $inhab/km^2$<br>\n",
    ">* Total area of the country, $1000 ha = 10km^2$<br>\n",
    ">* Total Population, unit $1000$ inhabitants<br>\n",
    "\n",
    "___"
   ]
  },
  {
   "cell_type": "markdown",
   "id": "integrated-liabilities",
   "metadata": {
    "deletable": false,
    "editable": false
   },
   "source": [
    "<br>\n",
    "\n",
    "**3a) Read the CSV file called** ```data3.csv``` **into a DataFrame and name it** ```df``` \n",
    "\n",
    "<!--\n",
    "BEGIN QUESTION\n",
    "name: q3a\n",
    "manual: false\n",
    "points: 1\n",
    "-->"
   ]
  },
  {
   "cell_type": "code",
   "execution_count": 44,
   "id": "rising-subject",
   "metadata": {},
   "outputs": [],
   "source": [
    "# your code here\n",
    "df = ..."
   ]
  },
  {
   "cell_type": "code",
   "execution_count": null,
   "id": "opposed-ordering",
   "metadata": {
    "deletable": false,
    "editable": false
   },
   "outputs": [],
   "source": [
    "grader.check(\"q3a\")"
   ]
  },
  {
   "cell_type": "markdown",
   "id": "ordinary-selling",
   "metadata": {
    "deletable": false,
    "editable": false
   },
   "source": [
    "<br>\n",
    "\n",
    "**3b) Assign the first 10 rows of ```df``` to ```result_q3b```. Display them.**\n",
    "\n",
    "<!--\n",
    "BEGIN QUESTION\n",
    "name: q3b\n",
    "manual: false\n",
    "points: 1\n",
    "-->"
   ]
  },
  {
   "cell_type": "code",
   "execution_count": 46,
   "id": "little-reserve",
   "metadata": {},
   "outputs": [],
   "source": [
    "# your code here\n",
    "..."
   ]
  },
  {
   "cell_type": "code",
   "execution_count": null,
   "id": "single-terminal",
   "metadata": {
    "deletable": false,
    "editable": false
   },
   "outputs": [],
   "source": [
    "grader.check(\"q3b\")"
   ]
  },
  {
   "cell_type": "markdown",
   "id": "wireless-april",
   "metadata": {
    "deletable": false,
    "editable": false
   },
   "source": [
    "<br>\n",
    "\n",
    "**3c) Assign the column names of ```df``` to ```result_q3c```. Display them.**\n",
    "\n",
    "<!--\n",
    "BEGIN QUESTION\n",
    "name: q3c\n",
    "manual: false\n",
    "points: 1\n",
    "-->"
   ]
  },
  {
   "cell_type": "code",
   "execution_count": 49,
   "id": "efficient-truth",
   "metadata": {},
   "outputs": [],
   "source": [
    "# your code here\n",
    "...\n"
   ]
  },
  {
   "cell_type": "code",
   "execution_count": null,
   "id": "experimental-ebony",
   "metadata": {
    "deletable": false,
    "editable": false
   },
   "outputs": [],
   "source": [
    "grader.check(\"q3c\")"
   ]
  },
  {
   "cell_type": "markdown",
   "id": "utility-coaching",
   "metadata": {
    "deletable": false,
    "editable": false
   },
   "source": [
    "<br>\n",
    "\n",
    "**3d) Use ```.iloc``` assign the first 4 rows and first 3 columns to ```result_q3d```. Display them**\n",
    "\n",
    "<!--\n",
    "BEGIN QUESTION\n",
    "name: q3d\n",
    "manual: false\n",
    "points: 1\n",
    "-->"
   ]
  },
  {
   "cell_type": "code",
   "execution_count": 52,
   "id": "facial-title",
   "metadata": {},
   "outputs": [],
   "source": [
    "# your code here\n",
    "..."
   ]
  },
  {
   "cell_type": "code",
   "execution_count": null,
   "id": "associate-organic",
   "metadata": {
    "deletable": false,
    "editable": false
   },
   "outputs": [],
   "source": [
    "grader.check(\"q3d\")"
   ]
  },
  {
   "cell_type": "markdown",
   "id": "tight-politics",
   "metadata": {},
   "source": [
    "## Data Pre-Processing"
   ]
  },
  {
   "cell_type": "markdown",
   "id": "acknowledged-arrangement",
   "metadata": {
    "deletable": false,
    "editable": false
   },
   "source": [
    "<br>\n",
    "\n",
    "**4a) Find all the rows that  have** ```NaN``` **in the ```Symbol``` column. Assign the first 5 of them to ```result_q4a```. Display ```result_q4a```.**\n",
    "\n",
    "<!--\n",
    "BEGIN QUESTION\n",
    "name: q4a\n",
    "manual: false\n",
    "points: 1\n",
    "-->"
   ]
  },
  {
   "cell_type": "code",
   "execution_count": 55,
   "id": "future-keyboard",
   "metadata": {},
   "outputs": [],
   "source": [
    "# your code here\n",
    "..."
   ]
  },
  {
   "cell_type": "code",
   "execution_count": null,
   "id": "marked-thing",
   "metadata": {
    "deletable": false,
    "editable": false
   },
   "outputs": [],
   "source": [
    "grader.check(\"q4a\")"
   ]
  },
  {
   "cell_type": "markdown",
   "id": "running-watson",
   "metadata": {
    "deletable": false,
    "editable": false
   },
   "source": [
    "<br>\n",
    "\n",
    "**4b) Remove all columns and rows that contain ```NaN``` values and store in ```df1```. Store the last 5 rows in ```result_q4b```. Displaly them.**\n",
    "\n",
    ">**Note:** Sometimes it is best to just discard any data that contains missing values. There are some workarounds, but for now we will try to get rid of the NaN valued rows and columns.  \n",
    "\n",
    ">To do this: (1) Check which columns contain only 'NaN' values and drop them. Then, (2) drop rows that have any entry with a value 'NaN'. Finally, (3) store the result in place as ```df1``` and (4) display the last 5 rows of the  cleaned dataframe ```df1```.\n",
    "\n",
    "<!--\n",
    "BEGIN QUESTION\n",
    "name: q4b\n",
    "manual: false\n",
    "points: 2\n",
    "-->"
   ]
  },
  {
   "cell_type": "code",
   "execution_count": 58,
   "id": "prerequisite-mission",
   "metadata": {},
   "outputs": [],
   "source": [
    "# your code here\n",
    "..."
   ]
  },
  {
   "cell_type": "code",
   "execution_count": null,
   "id": "successful-concept",
   "metadata": {
    "deletable": false,
    "editable": false
   },
   "outputs": [],
   "source": [
    "grader.check(\"q4b\")"
   ]
  },
  {
   "cell_type": "markdown",
   "id": "aerial-mortgage",
   "metadata": {},
   "source": [
    "**4c) Skipped - there is no 4c**"
   ]
  },
  {
   "cell_type": "markdown",
   "id": "necessary-things",
   "metadata": {
    "deletable": false,
    "editable": false
   },
   "source": [
    "<br>\n",
    "\n",
    "**4d) Remove redundant/duplicate Entries**\n",
    "\n",
    "**Note:** In the data set we are working with, you can manually explore the data to see which rows contain duplicate data. However, imagine this task when you have millions of entries. Pandas has builtin functionality that allows you to do this -- at the DataFrame and Series object level. Take a look at the following functions \n",
    ">[.drop_duplicates( )](https://pandas.pydata.org/pandas-docs/stable/user_guide/indexing.html#duplicate-data)<br>\n",
    ">[.duplicated( )](https://pandas.pydata.org/pandas-docs/stable/reference/api/pandas.DataFrame.duplicated.html?highlight=duplicate%20columns)<br>\n",
    ">[.equals( )](https://www.w3resource.com/pandas/series/series-equals.php)<br>\n",
    ">[.where( )](https://pandas.pydata.org/pandas-docs/stable/reference/api/pandas.DataFrame.where.html)\n",
    "\n",
    "See if you can figure out how to solve this problem using one of the above methods, to drop any row in ```df1``` that is an identical entry.  Save the new DataFrame as ```df2```. Then assign the last 5 rows of ```df2``` to ```result_q4d```. Display ```result_q4d```.\n",
    "\n",
    "\n",
    "<!--\n",
    "BEGIN QUESTION\n",
    "name: q4d\n",
    "manual: false\n",
    "points: 1\n",
    "-->"
   ]
  },
  {
   "cell_type": "code",
   "execution_count": 63,
   "id": "understood-movement",
   "metadata": {},
   "outputs": [],
   "source": [
    "# your code here\n",
    "..."
   ]
  },
  {
   "cell_type": "code",
   "execution_count": null,
   "id": "raised-electricity",
   "metadata": {
    "deletable": false,
    "editable": false
   },
   "outputs": [],
   "source": [
    "grader.check(\"q4d\")"
   ]
  },
  {
   "cell_type": "markdown",
   "id": "recovered-alexander",
   "metadata": {
    "deletable": false,
    "editable": false
   },
   "source": [
    "<br>\n",
    "\n",
    "**4e) Find all the unique values for the column** ```Area``` **in** ```df2```. Assign them to ```result_q4e```. Display them.\n",
    "\n",
    "<!--\n",
    "BEGIN QUESTION\n",
    "name: q4e\n",
    "manual: false\n",
    "points: 1\n",
    "-->"
   ]
  },
  {
   "cell_type": "code",
   "execution_count": 67,
   "id": "smart-desert",
   "metadata": {},
   "outputs": [],
   "source": [
    "# your code here\n",
    "..."
   ]
  },
  {
   "cell_type": "code",
   "execution_count": null,
   "id": "visible-deputy",
   "metadata": {
    "deletable": false,
    "editable": false
   },
   "outputs": [],
   "source": [
    "grader.check(\"q4e\")"
   ]
  },
  {
   "cell_type": "markdown",
   "id": "terminal-chambers",
   "metadata": {
    "deletable": false,
    "editable": false
   },
   "source": [
    "<br>\n",
    "\n",
    "**4f) Convert data to datetime objects, sort by datetime ascending, reset index, and deep copy**\n",
    "\n",
    ">**To-Do:**<br>\n",
    ">1. In ```df2```, convert the ```Year``` column ```float64``` values to pandas [datetime](https://pandas.pydata.org/pandas-docs/stable/user_guide/timeseries.html) objects, where each year is represented as the first day of that calendar year -- e.g. ```1962.0``` will be represented as ```1962-01-01```.<br>\n",
    ">2. [Sort](https://pandas.pydata.org/pandas-docs/stable/reference/api/pandas.DataFrame.sort_values.html) by datetime ascending -- i.e. ```1962-01-01,  1963-01-01,...```.<br>\n",
    ">3. [Deepcopy](https://pandas.pydata.org/pandas-docs/stable/reference/api/pandas.DataFrame.copy.html) ```df2``` into a new DataFrame ```df3```. [Why deep copy?](https://realpython.com/copying-python-objects/)<br>\n",
    ">4. Store the first 4 rows of ```df3``` in ```result_q4f```. Display them.\n",
    "\n",
    "<!--\n",
    "BEGIN QUESTION\n",
    "name: q4f\n",
    "manual: false\n",
    "points: 2\n",
    "-->"
   ]
  },
  {
   "cell_type": "code",
   "execution_count": 71,
   "id": "potential-helena",
   "metadata": {
    "scrolled": true
   },
   "outputs": [],
   "source": [
    "# your code here\n",
    "..."
   ]
  },
  {
   "cell_type": "code",
   "execution_count": null,
   "id": "colonial-alabama",
   "metadata": {
    "deletable": false,
    "editable": false
   },
   "outputs": [],
   "source": [
    "grader.check(\"q4f\")"
   ]
  },
  {
   "cell_type": "markdown",
   "id": "packed-phone",
   "metadata": {},
   "source": [
    "## Exploratory Data Analysis (EDA) - Data Visualization"
   ]
  },
  {
   "cell_type": "markdown",
   "id": "serious-financing",
   "metadata": {
    "deletable": false,
    "editable": false
   },
   "source": [
    "<br>\n",
    "\n",
    "**5a) [Plot](https://pandas.pydata.org/pandas-docs/version/0.23.4/generated/pandas.DataFrame.plot.html) a bar graph showing the [count](https://pandas.pydata.org/pandas-docs/stable/reference/api/pandas.Series.value_counts.html) for [each unique value in the column 'Area'](https://pandas.pydata.org/pandas-docs/stable/user_guide/groupby.html) in ```df3```. Give it a title and be sure that all of the labels are legible.**\n",
    "\n",
    "\n",
    "<!--\n",
    "BEGIN QUESTION\n",
    "name: q5a\n",
    "manual: true\n",
    "points: 2\n",
    "-->\n",
    "<!-- EXPORT TO PDF -->"
   ]
  },
  {
   "cell_type": "code",
   "execution_count": 77,
   "id": "million-ideal",
   "metadata": {},
   "outputs": [],
   "source": [
    "# your code here\n",
    "..."
   ]
  },
  {
   "cell_type": "markdown",
   "id": "manual-block",
   "metadata": {},
   "source": [
    "## Exploratory Data Analysis (EDA) - Statistical Analysis"
   ]
  },
  {
   "cell_type": "markdown",
   "id": "lesbian-appearance",
   "metadata": {
    "deletable": false,
    "editable": false
   },
   "source": [
    "<br>\n",
    "\n",
    "**5b)  Starting from ```df3```, create a DataFrame** ```dftmp``` **to store rows where** ```Area``` **is** ```Iceland```, **then display a slice of the new DataFrame**\n",
    "\n",
    "\n",
    "<!--\n",
    "BEGIN QUESTION\n",
    "name: q5b\n",
    "manual: false\n",
    "points: 1\n",
    "-->"
   ]
  },
  {
   "cell_type": "code",
   "execution_count": 78,
   "id": "unauthorized-hindu",
   "metadata": {},
   "outputs": [],
   "source": [
    "# your code here\n",
    "..."
   ]
  },
  {
   "cell_type": "code",
   "execution_count": null,
   "id": "usual-default",
   "metadata": {
    "deletable": false,
    "editable": false
   },
   "outputs": [],
   "source": [
    "grader.check(\"q5b\")"
   ]
  },
  {
   "cell_type": "markdown",
   "id": "greater-princeton",
   "metadata": {
    "deletable": false,
    "editable": false
   },
   "source": [
    "<br>\n",
    "\n",
    "**5c) Filter data within a range**\n",
    "\n",
    ">**To Do:** Using the previously created DataFrame, ```dftmp```, find the years when the National Rainfall Index (NRI) was greater than 900 and less than 950 in Iceland. Store these years as a NumPy array in ```iceland_900_950_years```.\n",
    "\n",
    "<!--\n",
    "BEGIN QUESTION\n",
    "name: q5c\n",
    "manual: false\n",
    "points: 1\n",
    "-->"
   ]
  },
  {
   "cell_type": "code",
   "execution_count": 81,
   "id": "allied-spectrum",
   "metadata": {},
   "outputs": [],
   "source": [
    "# your code here\n",
    "..."
   ]
  },
  {
   "cell_type": "code",
   "execution_count": null,
   "id": "unavailable-lithuania",
   "metadata": {
    "deletable": false,
    "editable": false
   },
   "outputs": [],
   "source": [
    "grader.check(\"q5c\")"
   ]
  },
  {
   "cell_type": "markdown",
   "id": "careful-slovenia",
   "metadata": {
    "deletable": false,
    "editable": false
   },
   "source": [
    "<br>\n",
    "\n",
    "**5d) Create subset of data**\n",
    "\n",
    "\n",
    ">**To Do:** Starting from ```df3```, create a new DataFrame called ```df_usa``` that only contains values where ```Area``` is equal to ```United States of America```. Set the indices to be the ```Year``` column   (Use ```.set_index( )```, with the inplace paratmeter set to ```inplace=True```). Store the first 5 rows in ```result_q5d```. Display ```result_q5d```.\n",
    "\n",
    "<!--\n",
    "BEGIN QUESTION\n",
    "name: q5d\n",
    "manual: false\n",
    "points: 1\n",
    "-->"
   ]
  },
  {
   "cell_type": "code",
   "execution_count": 84,
   "id": "original-alcohol",
   "metadata": {
    "scrolled": true
   },
   "outputs": [],
   "source": [
    "..."
   ]
  },
  {
   "cell_type": "code",
   "execution_count": null,
   "id": "returning-costa",
   "metadata": {
    "deletable": false,
    "editable": false
   },
   "outputs": [],
   "source": [
    "grader.check(\"q5d\")"
   ]
  },
  {
   "cell_type": "markdown",
   "id": "potential-honey",
   "metadata": {
    "deletable": false,
    "editable": false
   },
   "source": [
    " <br>\n",
    "\n",
    "**5e) [Stack](https://pandas.pydata.org/pandas-docs/stable/reference/api/pandas.DataFrame.stack.html?highlight=stack%20unstack) and [Unstack](https://pandas.pydata.org/pandas-docs/stable/reference/api/pandas.DataFrame.unstack.html?highlight=stack%20unstack) DataFrame**\n",
    "\n",
    ">**To Do:** Pivot ```df_usa``` so that the unique values in the column ```Variable Name``` becomes the columns. The DataFrame values should be the ones in the the ```Value``` column. Save it in ```df_usa```. Display the dataframe shape and head. <br><br>\n",
    ">**Note:** [Pivot](https://pandas.pydata.org/pandas-docs/stable/reference/api/pandas.DataFrame.pivot.html#pandas.DataFrame.pivot) does not work if you have dupiclate entries --> ```ValueError: Index contains duplicate entries, cannot reshape```. You may need to drop index duplicates, or you could use [reset_index](https://pandas.pydata.org/pandas-docs/stable/reference/api/pandas.DataFrame.reset_index.html) and [pivot_table](https://pandas.pydata.org/pandas-docs/stable/reference/api/pandas.pivot_table.html) together, or [perform additional preprocessing](https://stackoverflow.com/questions/28651079/pandas-unstack-problems-valueerror-index-contains-duplicate-entries-cannot-re) to get rid of the error.\n",
    "\n",
    "<!--\n",
    "BEGIN QUESTION\n",
    "name: q5e\n",
    "manual: false\n",
    "points: 0\n",
    "-->"
   ]
  },
  {
   "cell_type": "code",
   "execution_count": 88,
   "id": "defensive-style",
   "metadata": {},
   "outputs": [],
   "source": [
    "# your code here\n",
    "..."
   ]
  },
  {
   "cell_type": "markdown",
   "id": "expired-better",
   "metadata": {
    "deletable": false,
    "editable": false
   },
   "source": [
    " <br>\n",
    "\n",
    "**5f)  Rename Features**\n",
    "\n",
    "   >**To Do: Rename the ```Gross Domestic Product (GDP)```, ```National Rainfall Index (NRI)```, ```Population density```, ```Total area of the country```, ```Total population``` columns as ```GDP```,```NRI```,```PD```,```Area```, ```Population```, respectively.  Assign the first 5 rows to ```result_q5f```.** \n",
    "\n",
    "<!--\n",
    "BEGIN QUESTION\n",
    "name: q5f\n",
    "manual: false\n",
    "points: 1\n",
    "-->"
   ]
  },
  {
   "cell_type": "code",
   "execution_count": 89,
   "id": "flexible-compromise",
   "metadata": {},
   "outputs": [],
   "source": [
    "# your code here\n",
    "df_usa.rename(columns={'Gross Domestic Product (GDP)': 'GDP', 'National Rainfall Index (NRI)': 'NRI', 'Population density': 'PD', 'Total area of the country': 'Area', 'Total population': 'Population'}, inplace=True)\n",
    "result_q5f = df_usa.head()"
   ]
  },
  {
   "cell_type": "code",
   "execution_count": null,
   "id": "timely-pakistan",
   "metadata": {
    "deletable": false,
    "editable": false
   },
   "outputs": [],
   "source": [
    "grader.check(\"q5f\")"
   ]
  },
  {
   "cell_type": "markdown",
   "id": "meaningful-stable",
   "metadata": {
    "deletable": false,
    "editable": false
   },
   "source": [
    "<br>\n",
    "\n",
    "**5g) Replace Missing Data**\n",
    "\n",
    ">**To Do:** Replace all *'Nan'* values in ```df_usa``` with ```0```. Assign the first 5 rows to ```result_q5g```.\n",
    "\n",
    "<!--\n",
    "BEGIN QUESTION\n",
    "name: q5g\n",
    "manual: false\n",
    "points: 1\n",
    "-->"
   ]
  },
  {
   "cell_type": "code",
   "execution_count": 93,
   "id": "incident-tissue",
   "metadata": {},
   "outputs": [],
   "source": [
    "# your code here\n",
    "..."
   ]
  },
  {
   "cell_type": "code",
   "execution_count": null,
   "id": "spanish-might",
   "metadata": {
    "deletable": false,
    "editable": false
   },
   "outputs": [],
   "source": [
    "grader.check(\"q5g\")"
   ]
  },
  {
   "cell_type": "markdown",
   "id": "bigger-ribbon",
   "metadata": {
    "deletable": false,
    "editable": false
   },
   "source": [
    "<br>\n",
    "\n",
    "**5h) Scale Data**\n",
    "\n",
    ">**To Do:** Multiply the ```Area``` column for all rows by ```10``` (so instead of $1000 ha$, the unit becomes $100 ha = 1km^2$). Assign the first 5 rows to ```result_q5h```.\n",
    "\n",
    "<!--\n",
    "BEGIN QUESTION\n",
    "name: q5h\n",
    "manual: false\n",
    "points: 1\n",
    "-->"
   ]
  },
  {
   "cell_type": "code",
   "execution_count": 96,
   "id": "emotional-memorabilia",
   "metadata": {},
   "outputs": [],
   "source": [
    "# your code here\n",
    "..."
   ]
  },
  {
   "cell_type": "code",
   "execution_count": null,
   "id": "productive-excerpt",
   "metadata": {
    "deletable": false,
    "editable": false
   },
   "outputs": [],
   "source": [
    "grader.check(\"q5h\")"
   ]
  },
  {
   "cell_type": "markdown",
   "id": "regional-brooklyn",
   "metadata": {
    "deletable": false,
    "editable": false
   },
   "source": [
    "<br>\n",
    "\n",
    "**5i)  Feature Engineering**\n",
    "\n",
    ">**To Do:** Create a new column in ```df_usa``` called ```GDP/capita``` and populate it with the calculated GDP per capita. Round the results to two decimal points. Assign the first 5 rows to ```result_q5i```.\n",
    "\n",
    "<br>\n",
    "\n",
    "$$GDP~per~capita = \\frac{GDP}{Population} * 1000$$\n",
    "\n",
    "<br>\n",
    "\n",
    "<!--\n",
    "BEGIN QUESTION\n",
    "name: q5i\n",
    "manual: false\n",
    "points: 1\n",
    "-->"
   ]
  },
  {
   "cell_type": "code",
   "execution_count": 99,
   "id": "quality-afghanistan",
   "metadata": {},
   "outputs": [],
   "source": [
    "# your code here\n",
    "..."
   ]
  },
  {
   "cell_type": "code",
   "execution_count": null,
   "id": "handed-ceramic",
   "metadata": {
    "deletable": false,
    "editable": false
   },
   "outputs": [],
   "source": [
    "grader.check(\"q5i\")"
   ]
  },
  {
   "cell_type": "markdown",
   "id": "exempt-yorkshire",
   "metadata": {
    "deletable": false,
    "editable": false
   },
   "source": [
    "<br>\n",
    "\n",
    "**5j) Data Extraction**\n",
    "\n",
    ">**To Do:** Find the maximum value of the ```NRI``` column in the US (using pandas methods) and store it in ```nri_max```. Find what year the max value occurs and store it in ```nri_max_year```\n",
    "\n",
    "<!--\n",
    "BEGIN QUESTION\n",
    "name: q5j\n",
    "manual: false\n",
    "points: 1\n",
    "-->"
   ]
  },
  {
   "cell_type": "code",
   "execution_count": 102,
   "id": "early-layout",
   "metadata": {},
   "outputs": [],
   "source": [
    "# your code here\n",
    "..."
   ]
  },
  {
   "cell_type": "code",
   "execution_count": null,
   "id": "extended-christmas",
   "metadata": {
    "deletable": false,
    "editable": false
   },
   "outputs": [],
   "source": [
    "grader.check(\"q5j\")"
   ]
  },
  {
   "cell_type": "markdown",
   "id": "genuine-advantage",
   "metadata": {
    "deletable": false,
    "editable": false
   },
   "source": [
    "# Submit\n",
    "Make sure you have run all cells in your notebook in order before running the cell below, so that all images/graphs appear in the output.\n",
    "**Please save before submitting!**\n",
    "\n",
    "<!-- EXPECT 1 EXPORTED QUESTIONS -->"
   ]
  },
  {
   "cell_type": "code",
   "execution_count": null,
   "id": "proof-teacher",
   "metadata": {
    "deletable": false,
    "editable": false
   },
   "outputs": [],
   "source": [
    "# Save your notebook first, then run this cell to create a pdf for your reference.\n",
    "import dsassign.to_pdf\n",
    "dsassign.to_pdf.generate_pdf('Numpy_Pandas.ipynb', 'Numpy_Pandas.pdf')"
   ]
  }
 ],
 "metadata": {
  "kernelspec": {
   "display_name": "Python 3",
   "language": "python",
   "name": "python3"
  },
  "language_info": {
   "codemirror_mode": {
    "name": "ipython",
    "version": 3
   },
   "file_extension": ".py",
   "mimetype": "text/x-python",
   "name": "python",
   "nbconvert_exporter": "python",
   "pygments_lexer": "ipython3",
   "version": "3.8.5"
  }
 },
 "nbformat": 4,
 "nbformat_minor": 5
}
