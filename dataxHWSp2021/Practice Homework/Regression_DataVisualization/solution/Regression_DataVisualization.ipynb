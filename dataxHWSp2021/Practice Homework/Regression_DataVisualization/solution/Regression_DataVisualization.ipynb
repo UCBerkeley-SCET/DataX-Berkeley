{
 "cells": [
  {
   "cell_type": "code",
   "execution_count": null,
   "id": "significant-fusion",
   "metadata": {
    "deletable": false,
    "editable": false
   },
   "outputs": [],
   "source": [
    "# Initialize Otter Grader\n",
    "import otter\n",
    "grader = otter.Notebook()"
   ]
  },
  {
   "cell_type": "markdown",
   "id": "internal-ability",
   "metadata": {},
   "source": [
    "![data-x](https://raw.githubusercontent.com/afo/data-x-plaksha/master/imgsource/dx_logo.png)"
   ]
  },
  {
   "cell_type": "markdown",
   "id": "sunrise-timer",
   "metadata": {},
   "source": [
    "___\n",
    "\n",
    "#### NAME:\n",
    "\n",
    "#### STUDENT ID:\n",
    "___"
   ]
  },
  {
   "cell_type": "markdown",
   "id": "interracial-bottle",
   "metadata": {},
   "source": [
    "# Data-X Fall 2020: Homework 04\n",
    "\n",
    "### Linear regression and matplotlib.\n",
    "\n",
    "Author: Ming-Yen Kao.\n",
    "\n",
    "In this homework, you will do some exercises with regression and plotting. "
   ]
  },
  {
   "cell_type": "markdown",
   "id": "substantial-increase",
   "metadata": {},
   "source": [
    "## Question 1 - Data Pre-processing"
   ]
  },
  {
   "cell_type": "markdown",
   "id": "ready-ultimate",
   "metadata": {},
   "source": [
    "Data Source of SP500.csv is Yahoo Finance; Data Source of Gold.csv is Gold.org; Data Source of 30YTBond.csv is Macrotrends.net.\n",
    "SP500 is a stock market index that measures the stock performance of 500 large companies listed on stock exchanges in the United States. The unit of Gold price is USD per oz. 30YTBond stands for US Treasury Bond future price with maturity of 30 years."
   ]
  },
  {
   "cell_type": "markdown",
   "id": "verbal-modeling",
   "metadata": {
    "deletable": false,
    "editable": false
   },
   "source": [
    "\n",
    "1a) Use pandas to load data from .csv to DataFrame. Please load 'SP500.csv' to df_SP500, load 'Gold.csv' to df_Gold, and load '30YTBond.csv' to df_30YTB.\n",
    "\n",
    "<!--\n",
    "BEGIN QUESTION\n",
    "name: q1a\n",
    "manual: false\n",
    "points: 1\n",
    "-->"
   ]
  },
  {
   "cell_type": "code",
   "execution_count": 1,
   "id": "timely-plane",
   "metadata": {},
   "outputs": [],
   "source": [
    "# Load required modules\n",
    "import numpy as np\n",
    "import pandas as pd\n",
    "# BEGIN SOLUTION\n",
    "file_path = 'SP500.csv'\n",
    "df_SP500 = pd.read_csv(file_path)\n",
    "file_path = 'Gold.csv'\n",
    "df_Gold = pd.read_csv(file_path)\n",
    "file_path = '30YTBond.csv'\n",
    "df_30YTB = pd.read_csv(file_path)\n",
    "# END SOLUTION"
   ]
  },
  {
   "cell_type": "code",
   "execution_count": null,
   "id": "junior-blame",
   "metadata": {
    "deletable": false,
    "editable": false
   },
   "outputs": [],
   "source": [
    "grader.check(\"q1a\")"
   ]
  },
  {
   "cell_type": "markdown",
   "id": "sufficient-announcement",
   "metadata": {
    "deletable": false,
    "editable": false
   },
   "source": [
    "1b) Only leave 'Date' and 'US dolloar price' in df_Gold and only leave 'Date' and 'closing price' in df_SP500. In other word 'Open', 'High', 'Low', 'Adj Close', and 'Volume' have to be dropped from df_SP500. 'Euro', 'Pound sterling', and 'Japanese yen' have to be dropped from df_Gold.\n",
    "\n",
    "<!--\n",
    "BEGIN QUESTION\n",
    "name: q1b\n",
    "manual: false\n",
    "points: 2\n",
    "-->"
   ]
  },
  {
   "cell_type": "code",
   "execution_count": 4,
   "id": "universal-uzbekistan",
   "metadata": {},
   "outputs": [],
   "source": [
    "# BEGIN SOLUTION\n",
    "df_SP500= df_SP500.drop(['Open', 'High', 'Low', 'Adj Close', 'Volume'], axis = 1)\n",
    "df_Gold = df_Gold.drop(['Euro', 'Pound sterling', 'Japanese yen'], axis = 1)\n",
    "# END SOLUTION"
   ]
  },
  {
   "cell_type": "code",
   "execution_count": null,
   "id": "perfect-stable",
   "metadata": {
    "deletable": false,
    "editable": false
   },
   "outputs": [],
   "source": [
    "grader.check(\"q1b\")"
   ]
  },
  {
   "cell_type": "markdown",
   "id": "polish-double",
   "metadata": {
    "deletable": false,
    "editable": false
   },
   "source": [
    "1c) Sample the very first price of the asset in each month to represnet that month. \n",
    "\n",
    "For example, 1999/1/2 price of bananan is 90; 1999/1/5 price of bananan is 85; 1999/1/6 price of bananan is 91. You should use 90 to represent the price of 1999/1. Please convert the date to Pandas datetime formate with day always = 1 ex: 1970-02-01 or 2000-11-01. Replace the original data frames of df_SP500, df_Gold, and df_30YTB with the sampled data frames. For example, we have [1999/1/2: 90, 1999/1/5: 85, 1999/1/6: 91, 1999/2/4: 70, 1999/2/7: 89]. After sampling, we should have [1999/1/1: 90, 1999/2/1: 70].\n",
    "\n",
    "* Remember to keep the Date in the format of Pandas timestamp!\n",
    "\n",
    "df_30YTB after sampling should be\n",
    "<img src=\"./Img6.png\">\n",
    "<!--\n",
    "BEGIN QUESTION\n",
    "name: q1c\n",
    "manual: false\n",
    "points: 3\n",
    "-->"
   ]
  },
  {
   "cell_type": "code",
   "execution_count": 7,
   "id": "protected-cuisine",
   "metadata": {},
   "outputs": [],
   "source": [
    "# BEGIN SOLUTION\n",
    "s = df_Gold['Date']\n",
    "s = s.str.split('/').str[0:2].str.join(sep='/')\n",
    "df_Gold['Date'] = pd.to_datetime(s)\n",
    "df_Gold = df_Gold.drop_duplicates(subset=['Date'])\n",
    "\n",
    "\n",
    "s = df_SP500['Date']\n",
    "s = s.str.split('-').str[0:2].str.join(sep='/')\n",
    "df_SP500['Date'] = pd.to_datetime(s)\n",
    "df_SP500 = df_SP500.drop_duplicates(subset=['Date'])\n",
    "\n",
    "s = df_30YTB['Date']\n",
    "s = s.str.split('/').str[0:2].str.join(sep='/')\n",
    "df_30YTB['Date'] = pd.to_datetime(s)\n",
    "df_30YTB = df_30YTB.drop_duplicates(subset=['Date'])\n",
    "# END SOLUTION"
   ]
  },
  {
   "cell_type": "code",
   "execution_count": null,
   "id": "insured-angle",
   "metadata": {
    "deletable": false,
    "editable": false
   },
   "outputs": [],
   "source": [
    "grader.check(\"q1c\")"
   ]
  },
  {
   "cell_type": "markdown",
   "id": "clean-slave",
   "metadata": {},
   "source": [
    "## Question 2 - Data Visualization & Linear Regression"
   ]
  },
  {
   "cell_type": "code",
   "execution_count": 10,
   "id": "compatible-quantum",
   "metadata": {},
   "outputs": [],
   "source": [
    "import matplotlib.pyplot as plt"
   ]
  },
  {
   "cell_type": "markdown",
   "id": "eleven-valentine",
   "metadata": {
    "deletable": false,
    "editable": false
   },
   "source": [
    "2a) Oberve the example plot below and try to reproduce it. y-left is df_SP500['Date'] in linear scale and y-right is df_SP500['Date'] in log scale. \n",
    "\n",
    "Specs:\n",
    "1. x-label and x-scale in black\n",
    "2. y-left label, y-left scale, and the corresponding line-plot in blue\n",
    "3. y-right label, y-right scale, and the corresponding line-plot in red\n",
    "4. plot title is 'Price of the S&P 500 Index'\n",
    "5. y-left label is 'Price (linear in $ US Dollars)'\n",
    "\n",
    "6. y-right label is 'Price (log in $ US Dollars)'\n",
    "7. x label is 'Date'\n",
    "\n",
    "\n",
    "Some helpful functions: axis.set_xlabel(), axis.set_ylabel(), axis.tick_params(), and axis.twinx()\n",
    "\n",
    "<img src=\"./Img1.png\">\n",
    "\n",
    "<!--\n",
    "BEGIN QUESTION\n",
    "name: q2a\n",
    "manual: false\n",
    "points: 3\n",
    "-->"
   ]
  },
  {
   "cell_type": "code",
   "execution_count": 11,
   "id": "paperback-brown",
   "metadata": {},
   "outputs": [],
   "source": [
    "# BEGIN SOLUTION\n",
    "fig, ax1 = plt.subplots()\n",
    "\n",
    "color = 'tab:blue'\n",
    "ax1.set_xlabel('Date')\n",
    "ax1.set_ylabel('Price (linear in $ US Dollars)', color=color)\n",
    "ax1.plot(df_SP500['Date'], df_SP500['Close'], color=color)\n",
    "ax1.tick_params(axis='y', labelcolor=color)\n",
    "\n",
    "ax2 = ax1.twinx()  # instantiate a second axes that shares the same x-axis\n",
    "\n",
    "color = 'tab:red'\n",
    "ax2.set_ylabel('Price (log in $ US Dollars)', color=color)  # we already handled the x-label with ax1\n",
    "ax2.plot(df_SP500['Date'], df_SP500['Close'], color=color)\n",
    "ax2.tick_params(axis='y', labelcolor=color)\n",
    "plt.yscale(value=\"log\")\n",
    "plt.title('Price of the S&P 500 Index')\n",
    "plt.show()\n",
    "# END SOLUTION"
   ]
  },
  {
   "cell_type": "code",
   "execution_count": null,
   "id": "impressive-seminar",
   "metadata": {
    "deletable": false,
    "editable": false
   },
   "outputs": [],
   "source": [
    "grader.check(\"q2a\")"
   ]
  },
  {
   "cell_type": "markdown",
   "id": "formal-inspector",
   "metadata": {
    "deletable": false,
    "editable": false
   },
   "source": [
    "2b) Linear regression of S&P 500 Index. \n",
    "\n",
    "1. Convert the 'Date' in df_SP500 to numpy.array and convert the unit to day as 'x' and convert the 'Close' in df_SP500 to numpy.array as 'y'. \n",
    "2. Shift the date so that the first element in array 'x' is 0.\n",
    "3. Follow the linear regression procedure in the slides https://datax.berkeley.edu/wp-content/uploads/2020/09/slides-m100-linear-regression.pdf. Page 9.\n",
    "4. Calculate the root mean square error and store it in 'error'. \n",
    "5. Finally plot the data and the fitting line together as the example plot below. \n",
    "\n",
    "Specs of plot:\n",
    "1. Color in default (please plot the data first so that the color of data will be blue)\n",
    "2. plot title is 'Price of the S&P 500 Index'\n",
    "3. x-label is 'Date'\n",
    "4. y-label is 'Price (in $ US Dollars)'\n",
    "\n",
    "<img src=\"./Img2.png\">\n",
    "\n",
    "<!--\n",
    "BEGIN QUESTION\n",
    "name: q2b\n",
    "manual: false\n",
    "points: 3\n",
    "-->"
   ]
  },
  {
   "cell_type": "code",
   "execution_count": 13,
   "id": "light-twenty",
   "metadata": {},
   "outputs": [],
   "source": [
    "# BEGIN SOLUTION\n",
    "# calculate linear fitting of SP500\n",
    "temp = df_SP500['Date'].astype(int)\n",
    "value_1st=temp[0]\n",
    "temp = temp.subtract(temp[0])/float(86400)/1e9\n",
    "x = temp.to_numpy()\n",
    "y = df_SP500['Close'].to_numpy()\n",
    "E_x = np.mean(x)\n",
    "E_y = np.mean(y)\n",
    "\n",
    "cov_xy = np.mean(x*y) - E_x * E_y\n",
    "\n",
    "y_0 = E_y - cov_xy/np.var(x) * E_x\n",
    "m = cov_xy/np.var(x)\n",
    "\n",
    "y_pred=m*x+y_0\n",
    "error = np.sqrt(np.mean(np.square(y_pred-y)))\n",
    "\n",
    "\n",
    "# plot the linear regression with the data\n",
    "temp = pd.Series(x)\n",
    "plt.plot(df_SP500['Date'], df_SP500['Close'])\n",
    "plt.plot(df_SP500['Date'], pd.Series(y_pred))\n",
    "plt.xlabel('Date')\n",
    "plt.ylabel('Price (in $ US Dollars)')\n",
    "plt.title('Price of the S&P 500 Index')\n",
    "plt.show()\n",
    "# END SOLUTION\n",
    "\n",
    "print ('Root Mean Square Error: ', error )"
   ]
  },
  {
   "cell_type": "code",
   "execution_count": null,
   "id": "dirty-consultancy",
   "metadata": {
    "deletable": false,
    "editable": false
   },
   "outputs": [],
   "source": [
    "grader.check(\"q2b\")"
   ]
  },
  {
   "cell_type": "markdown",
   "id": "legislative-appreciation",
   "metadata": {
    "deletable": false,
    "editable": false
   },
   "source": [
    "2c) Exponential regression of S&P 500 Index. \n",
    "1. Do the same thing as in 2b, but try to use exponential to fit the data this time. \n",
    "2. Convert the 'Date' in df_SP500 to numpy.array and convert the unit to day as 'x' and convert the 'Close' in df_SP500 to numpy.array as 'y'. \n",
    "3. Shift the date so that the first element in array 'x' is 0.\n",
    "4. Use exponential function to fit the data. Calculate the root mean square error and store it in 'error'. \n",
    "5. Finally plot the data and the fitting line  together as the example below.\n",
    "\n",
    "Hint: apply log to y value so that you can process the data as linear regression in 2(b). Remember to convert it back for the calculation for the 'error' and for the plot.\n",
    "\n",
    "\n",
    "Specs of plot:\n",
    "1. Color in default (please plot the data first so that the color of data will be blue)\n",
    "2. plot title is 'Price of the S&P 500 Index'\n",
    "3. x-label is 'Date'\n",
    "4. y-label is 'Price (in $ US Dollars)'\n",
    "\n",
    "<img src=\"./Img3.png\">\n",
    "\n",
    "<!--\n",
    "BEGIN QUESTION\n",
    "name: q2c\n",
    "manual: false\n",
    "points: 3\n",
    "-->"
   ]
  },
  {
   "cell_type": "code",
   "execution_count": 16,
   "id": "greatest-bargain",
   "metadata": {},
   "outputs": [],
   "source": [
    "# BEGIN SOLUTION\n",
    "# calculate log fitting of SP500\n",
    "#print(pd.to_timedelta(df_SP500['Date']).dt.total_seconds())\n",
    "temp = df_SP500['Date'].astype(int)\n",
    "value_1st=temp[0]\n",
    "temp = temp.subtract(temp[0])/float(86400)/1e9\n",
    "#print(temp)\n",
    "x = temp.to_numpy()\n",
    "y = np.log (df_SP500['Close'].to_numpy())\n",
    "#print(x)\n",
    "#print(y)\n",
    "E_x = np.mean(x)\n",
    "E_y = np.mean(y)\n",
    "\n",
    "cov_xy = np.mean(x*y) - E_x * E_y\n",
    "\n",
    "y_0 = E_y - cov_xy/np.var(x) * E_x\n",
    "m = cov_xy/np.var(x)\n",
    "\n",
    "y_pred= np.exp(m*x+y_0)\n",
    "error = np.sqrt(np.mean(np.square(y_pred-np.exp(y))))\n",
    "\n",
    "\n",
    "# plot the linear regression with the data\n",
    "temp = pd.Series(x)\n",
    "plt.plot(df_SP500['Date'], df_SP500['Close'])\n",
    "plt.plot(df_SP500['Date'], pd.Series(y_pred))\n",
    "plt.xlabel('Date')\n",
    "plt.ylabel('Price (in $ US Dollars)')\n",
    "plt.title('Price of the S&P 500 Index')\n",
    "plt.show()\n",
    "# END SOLUTION\n",
    "print ('Root Mean Square Error: ',  error)"
   ]
  },
  {
   "cell_type": "code",
   "execution_count": null,
   "id": "social-crossing",
   "metadata": {
    "deletable": false,
    "editable": false
   },
   "outputs": [],
   "source": [
    "grader.check(\"q2c\")"
   ]
  },
  {
   "cell_type": "markdown",
   "id": "about-celebrity",
   "metadata": {
    "deletable": false,
    "editable": false
   },
   "source": [
    "2d) Scatter plot of month-to-month return of S&P 500 Index and 30 Year Treasury Bond.\n",
    "1. Compute the month-to-month returns on S&P 500 and 30 Year Treasury Bond between 1977-08-01 (inclusive) and 2019-12-31 (inclusive). The month-to-month returns should be in the net-increment. For example, price on 2014-1-1 is 100 and price on 2014-2-1 is 105. The month-to-month return from 2014-1-1 to 2014-2-1 should be 0.05. Another example, if the array of the price of S&P 500 is [100, 105, 100, 105], the month-to-month return array should be [0.05, -0.04761904762, 0.05].\n",
    "2. Save the month-to-month returns in the format of numpy arrary in ‘x3’ and ‘y3’, respectively. Note that if the dimension of the array of price is n, the dimension of month-to-month return array should be n-1.\n",
    "3. Finally plot ‘x3’ and ‘y3’ as scatter plot. Try to reproduce the plot below.\n",
    "\n",
    "\n",
    "Specs of plot:\n",
    "1. Color in default\n",
    "2. plot title is 'Scatter Plot of the Returns'\n",
    "3. x-label is 'Month-to-month return of the S&P 500 Index'\n",
    "4. y-label is 'Month-to-month return of the 30-Year T-bond'\n",
    "\n",
    "<img src=\"./Img4.png\">\n",
    "\n",
    "<!--\n",
    "BEGIN QUESTION\n",
    "name: q2d\n",
    "manual: false\n",
    "points: 2\n",
    "-->"
   ]
  },
  {
   "cell_type": "code",
   "execution_count": 19,
   "id": "timely-liquid",
   "metadata": {},
   "outputs": [],
   "source": [
    "# BEGIN SOLUTION\n",
    "# Creation of Mon to Mon array\n",
    "temp_SP500 = df_SP500[~(df_SP500['Date'] < '1977-08-01') & ~(df_SP500['Date'] > '2019-12-31')]\n",
    "temp_30YTB = df_30YTB[~(df_30YTB['Date'] < '1977-08-01') & ~(df_30YTB['Date'] > '2019-12-31')]\n",
    "x = temp_SP500['Close'].to_numpy()\n",
    "y = temp_30YTB['value'].to_numpy()\n",
    "#print (x, y)\n",
    "#x= np.array([1, 2, 4, 8])\n",
    "x1 = np.log(x)\n",
    "x2 = np.diff(x1)\n",
    "x3 = np.exp(x2)-1\n",
    "\n",
    "y1 = np.log(y)\n",
    "y2 = np.diff(y1)\n",
    "y3 = np.exp(y2)-1\n",
    "#print (x3)\n",
    "plt.scatter(x3, y3) \n",
    "plt.xlabel('Month-to-month return of the S&P 500 Index')\n",
    "plt.ylabel('Month-to-month return of the 30-Year T-bond')\n",
    "plt.title('Scatter Plot of the Returns')\n",
    "plt.show()\n",
    "# END SOLUTION\n",
    "print (x3, y3)"
   ]
  },
  {
   "cell_type": "code",
   "execution_count": null,
   "id": "american-suffering",
   "metadata": {
    "deletable": false,
    "editable": false
   },
   "outputs": [],
   "source": [
    "grader.check(\"q2d\")"
   ]
  },
  {
   "cell_type": "markdown",
   "id": "dependent-productivity",
   "metadata": {
    "deletable": false,
    "editable": false
   },
   "source": [
    "2e) Plot the histogram of S&P 500 month-to-month returns. The y-axis is count, and the x-axis is month-to-month return. The number of the bars should be 100. Try to reproduce the plot below.\n",
    "\n",
    "\n",
    "Specs of plot:\n",
    "1. Color in default\n",
    "2. plot title is 'Histogram of S&P 500'\n",
    "3. x-label is 'Month-to-Month Return'\n",
    "4. y-label is 'Count'\n",
    "5. number of the bars should be 100.\n",
    "\n",
    "<img src=\"./Img5.png\">\n",
    "\n",
    "<!--\n",
    "BEGIN QUESTION\n",
    "name: q2e\n",
    "manual: false\n",
    "points: 1\n",
    "-->"
   ]
  },
  {
   "cell_type": "code",
   "execution_count": 22,
   "id": "coupled-excitement",
   "metadata": {},
   "outputs": [],
   "source": [
    "# BEGIN SOLUTION\n",
    "#Histogram of return of S&P 500\n",
    "plt.hist(x3,100)\n",
    "plt.xlabel('Month-to-Month Return')\n",
    "plt.ylabel('Count')\n",
    "plt.title('Histogram of S&P 500')\n",
    "plt.show()\n",
    "# END SOLUTION"
   ]
  },
  {
   "cell_type": "code",
   "execution_count": null,
   "id": "demographic-conducting",
   "metadata": {
    "deletable": false,
    "editable": false
   },
   "outputs": [],
   "source": [
    "grader.check(\"q2e\")"
   ]
  },
  {
   "cell_type": "markdown",
   "id": "fourth-absolute",
   "metadata": {
    "deletable": false,
    "editable": false
   },
   "source": [
    "# Submit\n",
    "Make sure you have run all cells in your notebook in order before running the cell below, so that all images/graphs appear in the output.\n",
    "**Please save before submitting!**"
   ]
  },
  {
   "cell_type": "code",
   "execution_count": null,
   "id": "round-commercial",
   "metadata": {
    "deletable": false,
    "editable": false
   },
   "outputs": [],
   "source": [
    "# Save your notebook first, then run this cell to create a pdf for your reference."
   ]
  }
 ],
 "metadata": {
  "kernelspec": {
   "display_name": "Python 3",
   "language": "python",
   "name": "python3"
  },
  "language_info": {
   "codemirror_mode": {
    "name": "ipython",
    "version": 3
   },
   "file_extension": ".py",
   "mimetype": "text/x-python",
   "name": "python",
   "nbconvert_exporter": "python",
   "pygments_lexer": "ipython3",
   "version": "3.8.5"
  }
 },
 "nbformat": 4,
 "nbformat_minor": 5
}
