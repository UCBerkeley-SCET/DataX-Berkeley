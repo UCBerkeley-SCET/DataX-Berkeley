{
 "cells": [
  {
   "cell_type": "markdown",
   "metadata": {},
   "source": [
    "![data-x](https://raw.githubusercontent.com/afo/data-x-plaksha/master/imgsource/dx_logo.png)"
   ]
  },
  {
   "cell_type": "markdown",
   "metadata": {},
   "source": [
    "___\n",
    "\n",
    "#### NAME:\n",
    "\n",
    "#### STUDENT ID:\n",
    "___"
   ]
  },
  {
   "cell_type": "markdown",
   "metadata": {},
   "source": [
    "# HW 5: Flask\n",
    "**(Total 60 points)**"
   ]
  },
  {
   "cell_type": "markdown",
   "metadata": {},
   "source": [
    "## 0. Introduction\n",
    "**(0 point)**\n",
    "\n",
    "You will learn the basics of how Flask handles HTTP requests, interacts with database, structures a website, and renders webpages. This homework is largely based on the [Flask Tutorial](https://flask.palletsprojects.com/en/1.1.x/tutorial/). It is encouraged that you frequently refer to the tutorial while going through the homework problems.\n",
    "\n",
    "For this homework, you should develop and test the website on your **local machine**. You will implement various functions and complete a website design through the homework. \n",
    "\n",
    "Firstly, we install the following packages."
   ]
  },
  {
   "cell_type": "code",
   "execution_count": null,
   "metadata": {},
   "outputs": [],
   "source": [
    "# Flask - our main character today for website backend\n",
    "!pip install flask\n",
    "# click for handling command line interface\n",
    "!pip install click\n",
    "# Werkzeug for form validations\n",
    "!pip install Werkzeug\n",
    "# pytest for testing\n",
    "!pip install pytest"
   ]
  },
  {
   "cell_type": "markdown",
   "metadata": {},
   "source": [
    "### 0.a Deployed Demo Website\n",
    "A [demo website](https://flaskdemo-datax2021sp.herokuapp.com) of the final product has been deployed on Heroku for you to test out. Note that:\n",
    "1. Because of the limitation of Free Heroku App, the demo website will sleep after becoming idle for a while. If that happens, it may take some time to restart the application after you have reached the site, so be patient with the website loading. After the website is back on, it should respond fast to your requests.\n",
    "2. For this homework, we store the website contents with a serverless [SQLite database](https://docs.python.org/3/library/sqlite3.html) because it is easy to get started with. Because SQLite is also used for the demo website, the database states does not retain over time on Heroku's [ephemeral filesystem](https://devcenter.heroku.com/articles/dynos#ephemeral-filesystem). To resolve this issue or to scale up the web application, other production-ready database systems such as [PostgreSQL](https://www.heroku.com/postgres) should be used. While this issue will not affect the development on your local machine, it is important to keep the limitation of SQLite in mind."
   ]
  },
  {
   "cell_type": "markdown",
   "metadata": {},
   "source": [
    "### 0.b Structure of the Homework\n",
    "You will work on the code and scripts in the **\"./flaskr\"** package which defines our flask application.\n",
    "The skeleton of the project has been created with a bunch of **`TODO`** comments indicating what shuold be completed for each problem.\n",
    "\n",
    "We set the flask environment variables. This is equivalent to the setting in the tutorial [page](https://flask.palletsprojects.com/en/1.1.x/tutorial/factory/#run-the-application) if you work directly with shell."
   ]
  },
  {
   "cell_type": "code",
   "execution_count": null,
   "metadata": {},
   "outputs": [],
   "source": [
    "import os\n",
    "os.environ[\"FLASK_APP\"] = 'flaskr'\n",
    "os.environ[\"FLASK_ENV\"] = 'development'"
   ]
  },
  {
   "cell_type": "markdown",
   "metadata": {},
   "source": [
    "The command `$ flask run` is used to launch the application on your machine. We have also defined a flask command (in flaskr/db.py) \"init-db\" to initialize the tables in the database. `$ flask init-db` should be run once to set up the database before the application is started. Afterwards, calling \"init-db\" will clear all the tables."
   ]
  },
  {
   "cell_type": "code",
   "execution_count": null,
   "metadata": {},
   "outputs": [],
   "source": [
    "!flask init-db"
   ]
  },
  {
   "cell_type": "code",
   "execution_count": null,
   "metadata": {},
   "outputs": [],
   "source": [
    "!flask run"
   ]
  },
  {
   "cell_type": "markdown",
   "metadata": {},
   "source": [
    "You should see a \"Hello, World!\" message at http://localhost:5000/hello. However, the index page (http://localhost:5000/) is not set up yet. It will become available after problem 1 is completed. \n",
    "\n",
    "> To excute the cells below, terminate the above execution and come back later when it is needed.\n",
    "\n",
    "The basic app and database configurations are already given. You should be able to pass the two test sets below."
   ]
  },
  {
   "cell_type": "code",
   "execution_count": null,
   "metadata": {},
   "outputs": [],
   "source": [
    "import pytest\n",
    "pytest.main([\"-q\",\"pytests/test_factory.py\"])\n",
    "pytest.main([\"-q\",\"pytests/test_db.py\"])"
   ]
  },
  {
   "cell_type": "markdown",
   "metadata": {},
   "source": [
    "## 1. Set Up the Base Website\n",
    "**(20 points)**\n",
    "\n",
    "This is a starter problem that walks you through the structure of the code and flask usages. We will create a base website according to the [flask tutorial](https://flask.palletsprojects.com/en/1.1.x/tutorial/) and extend it through the following questions.\n",
    "\n",
    "### 1.a User Authentication (10 points)\n",
    "\n",
    "Edit **./flaskr/auth.py** and **./flaskr/\\_\\_init__.py**. Look for the **`TODO: Q1`** and **`TODO: Q1a`** comments and complete the requested implementations. This will allow users to register and log in to the website.\n",
    "\n",
    "**Hint: Answers to this question can be found at the [tutorial page](https://flask.palletsprojects.com/en/1.1.x/tutorial/views/)**.\n",
    "\n",
    "The cell below tests if you complete all the quests. "
   ]
  },
  {
   "cell_type": "code",
   "execution_count": null,
   "metadata": {},
   "outputs": [],
   "source": [
    "pytest.main([\"-q\",\"pytests/test_auth.py\"])"
   ]
  },
  {
   "cell_type": "markdown",
   "metadata": {},
   "source": [
    "### 1.b Blog Post Creation, Update, and Deletion (10 points)\n",
    "\n",
    "Edit **./flaskr/blog.py** and **./flaskr/\\_\\_init__.py**. Look for the **`TODO: Q1`** and **`TODO: Q1b`** comments and complete the requested implementations. \n",
    "\n",
    "This will\n",
    "1. Set up the index page.\n",
    "2. Allow users to create posts.\n",
    "3. Allow users to update or delete the posts they created.\n",
    " \n",
    "**Hint: Answers to this question can be found at the [tutorial page](https://flask.palletsprojects.com/en/1.1.x/tutorial/blog/)**.\n",
    "\n",
    "The cell below tests if you complete all the quests. "
   ]
  },
  {
   "cell_type": "code",
   "execution_count": null,
   "metadata": {},
   "outputs": [],
   "source": [
    "pytest.main([\"-q\",\"pytests/test_blog.py\"])"
   ]
  },
  {
   "cell_type": "markdown",
   "metadata": {},
   "source": [
    "## 2. Reply Functionality\n",
    "**(20 points)**\n",
    "\n",
    "### 2.a Add Replies (10 points)\n",
    "\n",
    "Edit **./flaskr/blog.py**. Look for the **`TODO: Q2.a`** comments and complete the requested implementations. This will \n",
    "1. Allow users to make replies to existing posts.\n",
    "2. Render index and reply pages with replies.\n",
    "\n",
    "The cell below tests if you complete all the quests. "
   ]
  },
  {
   "cell_type": "code",
   "execution_count": null,
   "metadata": {},
   "outputs": [],
   "source": [
    "pytest.main([\"-q\",\"pytests/test_reply.py\"])"
   ]
  },
  {
   "cell_type": "markdown",
   "metadata": {},
   "source": [
    "### 2.b Delete Replies (10 points)\n",
    "\n",
    "Edit **./flaskr/blog.py**. Look for the **`TODO: Q2.b`** comments and complete the requested implementations. This will allow users to delete replies they create. Note that only the user who makes the reply should be granted the delete access to it.\n",
    "\n",
    "The cell below tests if you complete all the quests. "
   ]
  },
  {
   "cell_type": "code",
   "execution_count": null,
   "metadata": {},
   "outputs": [],
   "source": [
    "pytest.main([\"-q\",\"pytests/test_reply_del.py\"])"
   ]
  },
  {
   "cell_type": "markdown",
   "metadata": {},
   "source": [
    "## 3. Anonymous Posts\n",
    "**(10 points)**\n",
    "\n",
    "Edit **./flaskr/blog.py**, **./flaskr/template/blog/index.html**, and **./flaskr/template/blog/reply.html**. Look for the **`TODO: Q3`** comments and complete the requested implementations. This will allow users make their usernames hidden when creating posts.\n",
    "\n",
    "The cell below tests if you complete all the quests. "
   ]
  },
  {
   "cell_type": "code",
   "execution_count": null,
   "metadata": {},
   "outputs": [],
   "source": [
    "pytest.main([\"-q\",\"pytests/test_anonym.py\"])"
   ]
  },
  {
   "cell_type": "markdown",
   "metadata": {},
   "source": [
    "## 4. Site Administration\n",
    "**(10 points)**\n",
    "\n",
    "Flask offers an [interface](https://flask.palletsprojects.com/en/1.1.x/cli/#custom-commands) to add customized commands that can be used to administrate the website. Our `flask init-db` command is one use case of it. Some more examples (`flask list-users` and `flask list-posts`) are provided in **./flaskr/admin.py**, so the administrator can monitor the status of the website efficiently. \n",
    "\n",
    "Now, you will implement two more commands that will allow the administrator to delete users and posts.\n",
    "\n",
    "### 4.a `flask del-post` (5 points)\n",
    "\n",
    "Complete the `del_post_command` function in **./flaskr/admin.py**. The function should \n",
    "1. Delete the post with the given post id (argument `id` of the function.)\n",
    "2. Delete all the replies to the post.\n",
    "\n",
    "This will be registered as the `flask del-post` command. The cell below tests if the command will work as expected. \n",
    "> When prompted for responses, enter \"y\" to continue execution.\n"
   ]
  },
  {
   "cell_type": "code",
   "execution_count": null,
   "metadata": {},
   "outputs": [],
   "source": [
    "pytest.main([\"-q\",\"pytests/test_cli_del_post.py\"])"
   ]
  },
  {
   "cell_type": "markdown",
   "metadata": {},
   "source": [
    "### 4.b `flask del-user` (5 points)\n",
    "\n",
    "Complete the `del_user_command` function in **./flaskr/admin.py**. The function should \n",
    "1. Delete the user with the given user id (argument `id` of the function.)\n",
    "2. Delete all the posts and replies created by the user.\n",
    "3. For the posts deleted in 2, delete all the replies to them as well.\n",
    "\n",
    "This will be registered as the `flask del-user` command. The cell below tests if the command will work as expected. \n",
    "> When prompted for responses, enter \"y\" to continue execution."
   ]
  },
  {
   "cell_type": "code",
   "execution_count": null,
   "metadata": {},
   "outputs": [],
   "source": [
    "pytest.main([\"-q\",\"pytests/test_cli_del_user.py\"])"
   ]
  },
  {
   "cell_type": "markdown",
   "metadata": {},
   "source": [
    "## 5. Submission\n",
    "\n",
    "This homework will be graded by autograders. Submit **the entire flaskr package** to Gradescope. Compress the flaskr directory (including the flaskr/ folder itself) into a **.zip file**. Upon uploading, the zip file will automatically uncompress. Below is an exmaple of the upload page with the correct format.\n",
    "<img src=\"Gradescope_demo.png\" width=400>"
   ]
  }
 ],
 "metadata": {
  "kernelspec": {
   "display_name": "Python 3",
   "language": "python",
   "name": "python3"
  },
  "language_info": {
   "codemirror_mode": {
    "name": "ipython",
    "version": 3
   },
   "file_extension": ".py",
   "mimetype": "text/x-python",
   "name": "python",
   "nbconvert_exporter": "python",
   "pygments_lexer": "ipython3",
   "version": "3.8.5"
  }
 },
 "nbformat": 4,
 "nbformat_minor": 4
}
