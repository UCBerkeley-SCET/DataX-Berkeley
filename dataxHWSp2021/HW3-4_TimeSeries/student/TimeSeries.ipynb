{
 "cells": [
  {
   "cell_type": "code",
   "execution_count": null,
   "metadata": {
    "deletable": false,
    "editable": false
   },
   "outputs": [],
   "source": [
    "# Initialize Otter Grader\n",
    "import otter\n",
    "grader = otter.Notebook()"
   ]
  },
  {
   "cell_type": "markdown",
   "metadata": {
    "id": "Bh9vm0LmCj8o"
   },
   "source": [
    "![data-x](https://raw.githubusercontent.com/afo/data-x-plaksha/master/imgsource/dx_logo.png)"
   ]
  },
  {
   "cell_type": "markdown",
   "metadata": {
    "id": "-A1dHrL8Co9m"
   },
   "source": [
    "___\n",
    "\n",
    "#### NAME:\n",
    "\n",
    "#### STUDENT ID:\n",
    "___"
   ]
  },
  {
   "cell_type": "markdown",
   "metadata": {
    "id": "QLCbCo9ACxD9"
   },
   "source": [
    "#  HW3-4: Time Series\n",
    "**(Total 120 points)**"
   ]
  },
  {
   "cell_type": "markdown",
   "metadata": {},
   "source": [
    "Run the following cell to install the packages you need for this assignment. You only need to install once, and you can comment the installation cell later."
   ]
  },
  {
   "cell_type": "code",
   "execution_count": 1,
   "metadata": {
    "scrolled": true
   },
   "outputs": [],
   "source": [
    "# Run the cell to install the packages\n",
    "\n",
    "!python3 -m pip install pystan\n",
    "!conda install -c conda-forge fbprophet --yes"
   ]
  },
  {
   "cell_type": "markdown",
   "metadata": {
    "id": "bHW2HYCwC2si"
   },
   "source": [
    "Run the following cell to load the required modules."
   ]
  },
  {
   "cell_type": "code",
   "execution_count": 2,
   "metadata": {
    "id": "9PmddRUgVTnD"
   },
   "outputs": [],
   "source": [
    "# Import libraries\n",
    "import pandas as pd\n",
    "import matplotlib.pyplot as plt\n",
    "import seaborn as sns\n",
    "import numpy as np\n",
    "import warnings\n",
    "warnings.filterwarnings('ignore')"
   ]
  },
  {
   "cell_type": "markdown",
   "metadata": {
    "id": "I9Ez3s5vZ1i0"
   },
   "source": [
    "We will now work on an Air Traffic Passenger dataset from https://data.sfgov.org/Transportation/Air-Traffic-Passenger-Statistics/rkru-6vcg. This dataset contains the monthly passenger traffic statistics by airline."
   ]
  },
  {
   "cell_type": "code",
   "execution_count": 3,
   "metadata": {
    "colab": {
     "base_uri": "https://localhost:8080/",
     "height": 470
    },
    "id": "TeBtw2btVTnH",
    "outputId": "f8787855-4bfc-4124-ec74-e531f2823140"
   },
   "outputs": [],
   "source": [
    "# Read in datasets\n",
    "flight_stat = pd.read_csv('SF_Air_Traffic_Passenger_Statistics_2005_2020.csv')\n",
    "display(flight_stat)"
   ]
  },
  {
   "cell_type": "markdown",
   "metadata": {
    "id": "5oxf8RIQoUc4"
   },
   "source": [
    "We will consider the passenger count vs. time. Therefore, let us sum the passenger count from all different airlines by grouping the date."
   ]
  },
  {
   "cell_type": "code",
   "execution_count": 4,
   "metadata": {
    "colab": {
     "base_uri": "https://localhost:8080/",
     "height": 450
    },
    "id": "j6B4BtiJqAHr",
    "outputId": "ff7c086a-63bf-42aa-8ec6-2ccc71bd960a"
   },
   "outputs": [],
   "source": [
    "flight = flight_stat[['Date', 'Passenger Count']].groupby('Date').sum().reset_index()\n",
    "flight['Date'] = pd.to_datetime(flight['Date'], format='%Y%m%d', errors='ignore')\n",
    "flight = flight.set_index('Date')\n",
    "display(flight)"
   ]
  },
  {
   "cell_type": "markdown",
   "metadata": {
    "id": "O0YEUvKYVTnK"
   },
   "source": [
    "## 1. Measuring Error with MAPE\n",
    "**(Total 11 points)**\n",
    "\n",
    "The Mean Absolute Percentage Error (MAPE) is a common metric for measuring error in forecasts. The MAPE represents error as a percentage of the actual observed values. A high MAPE value means the error is large relative to the quantity being measuring and so the forecast is poor. A small MAPE means the error is relatively small so the forecast is good.\n",
    "\n",
    "The MAPE is given by:\n",
    "\n",
    "$$ MAPE = \\frac{1}{n} \\sum_{i=1}^{n} \\frac{|F_t - A_t|}{A_t} $$\n",
    "\n",
    "where $A_t$ is the actual observed value, $F_t$ is the forecast, and $n$ is the number of data points the MAPE is being calculated over. Read about MAPE at https://en.wikipedia.org/wiki/Mean_absolute_percentage_error"
   ]
  },
  {
   "cell_type": "markdown",
   "metadata": {
    "deletable": false,
    "editable": false,
    "id": "0lnO6fiuVTnK"
   },
   "source": [
    "### 1.a MAPE Function\n",
    "\n",
    "Write a function `get_mape` that calculates the MAPE for a set of forecasts and actuals. The inputs to the function are two <i> pd.series called </i> `actuals` and `forecasts`. The function returns the MAPE as decimal rounded to 5 decimal places (i.e. MAPE = 0.10325)\n",
    "\n",
    "<!--\n",
    "BEGIN QUESTION\n",
    "name: q1a\n",
    "manual: true\n",
    "points: 11\n",
    "-->\n",
    "<!-- EXPORT TO PDF -->"
   ]
  },
  {
   "cell_type": "code",
   "execution_count": 5,
   "metadata": {
    "id": "GuhEdVesVTnL"
   },
   "outputs": [],
   "source": [
    "def get_mape(actuals, forecasts):\n",
    "    MAPE = ...\n",
    "    return MAPE"
   ]
  },
  {
   "cell_type": "code",
   "execution_count": null,
   "metadata": {
    "deletable": false,
    "editable": false
   },
   "outputs": [],
   "source": [
    "grader.check(\"q1a\")"
   ]
  },
  {
   "cell_type": "markdown",
   "metadata": {
    "id": "LtXUcCZXVTnM"
   },
   "source": [
    "## 2. Selecting Parameters in Exponential Smoothing\n",
    "**(Total 36 points)**\n",
    "\n",
    "Plot the monthly flight passengers dataset to understand the trend and seasonality. Does the trend appear to be multiplicative or additive? Does the seasonality appear to be multiplicative or additive? You can read different types of trend & seasonality in https://datax.berkeley.edu/wp-content/uploads/2020/09/slides-m215-time-series.pdf."
   ]
  },
  {
   "cell_type": "code",
   "execution_count": 8,
   "metadata": {
    "colab": {
     "base_uri": "https://localhost:8080/",
     "height": 281
    },
    "id": "vKGFfeT4VTnM",
    "outputId": "197b05a2-1192-4996-c1a8-66f70155fdde",
    "scrolled": true
   },
   "outputs": [],
   "source": [
    "plt.title('Monthly Flight Passengers in SFO Airport')\n",
    "plt.ylabel('Passenger Count')\n",
    "plt.plot(flight['Passenger Count']);"
   ]
  },
  {
   "cell_type": "markdown",
   "metadata": {
    "id": "hYzVsIsinQfR"
   },
   "source": [
    "For simplicity, let us only consider the data before the pandemic, that is, February 1st, 2020. We will use the data before 2017 as the training data, and after that as test data."
   ]
  },
  {
   "cell_type": "code",
   "execution_count": 9,
   "metadata": {
    "id": "wQyxaR2wUSbq"
   },
   "outputs": [],
   "source": [
    "flight = flight[flight.index < '2020-02-01']\n",
    "train = flight[flight.index <= '2016-12-31']\n",
    "test = flight[flight.index >= '2017-01-01']"
   ]
  },
  {
   "cell_type": "markdown",
   "metadata": {
    "deletable": false,
    "editable": false,
    "id": "iwDqvBNBVTnN"
   },
   "source": [
    "### 2.a Triple Exponential Smoothing (Holt-Winters Seasonal)\n",
    "\n",
    "Use Triple Exponential Smoothing to create monthly flight passenger count forecasts for Jan 2017 and onward (37 months into the future). You can read more about exponential smoothing [here](https://machinelearningmastery.com/exponential-smoothing-for-time-series-forecasting-in-python). Fit a model with parameter values recommended by the model and train on data collected from Dec 2016 and prior.\n",
    "##### `ExponentialSmoothing(...)`\n",
    "- `trend` = [FROM PART A]: {\"additive\", \"multiplicative\", None} \n",
    "    Type of trend component.\n",
    "- `seasonal` = [FROM PART A]: {\"additive\", \"multiplicative\", None}\n",
    "    Type of seasonal component.\n",
    "\n",
    "- `seasonal_periods` = ?: The number of periods in a complete seasonal cycle, e.g., 4 for quarterly data or 7 for daily data with a weekly cycle.\n",
    "\n",
    "\n",
    "\n",
    "##### `ExponentialSmoothing().fit(...)`\n",
    "- `smoothing_level` = Recommended by model \n",
    "\n",
    "    Parameter (also called alpha) between 0 and 1 that determines how to weigh previous observations. A value closer to 1 means the model pays more attention to recent observations and a value closer to 0 tells the model to use older observations.\n",
    "- `smoothing_slope`  = Recommended by model\n",
    "\n",
    "    Parameter (also called beta) between 0 and 1 that controls the trend. If alpha is closer to 1, the model pays attention to the more recent trend. \n",
    "- `smoothing_seasonal`  = Recommended by model\n",
    "\n",
    "    Parameter (also called gamma) between 0 and 1 that controls the seasonality. If gamma is closer to 1, the model pays attention to more recent seasonality cycle's shape. \n",
    "\n",
    "\n",
    "Hint: Remember we can let the model recommend parameters by passing no inputs into the `fit` method:  `ExponentialSmoothing(...).fit()`\n",
    "\n",
    "\n",
    "<!--\n",
    "BEGIN QUESTION\n",
    "name: q2a\n",
    "manual: true\n",
    "points: 12\n",
    "-->\n",
    "<!-- EXPORT TO PDF -->"
   ]
  },
  {
   "cell_type": "code",
   "execution_count": 10,
   "metadata": {
    "colab": {
     "base_uri": "https://localhost:8080/",
     "height": 276
    },
    "id": "HlsvqZ_rVTnO",
    "outputId": "17b3cb4a-e9bd-40ba-a703-c9dbadd0a27c"
   },
   "outputs": [],
   "source": [
    "from statsmodels.tsa.holtwinters import ExponentialSmoothing\n",
    "\n",
    "### YOUR CODE HERE\n",
    "model = ...\n",
    "\n",
    "# Fit models\n",
    "fit = ...\n",
    "\n",
    "# Forecast \n",
    "pred = ...\n",
    "\n",
    "\n",
    "plt.plot(pred, label = 'alpha, beta, gamma = recommended')\n",
    "plt.plot(flight['Passenger Count'])\n",
    "plt.legend();"
   ]
  },
  {
   "cell_type": "code",
   "execution_count": null,
   "metadata": {
    "deletable": false,
    "editable": false
   },
   "outputs": [],
   "source": [
    "grader.check(\"q2a\")"
   ]
  },
  {
   "cell_type": "markdown",
   "metadata": {
    "deletable": false,
    "editable": false,
    "id": "vBJDBDRbVTnR"
   },
   "source": [
    "### 2.b Parameter Selection\n",
    "Now use Triple Exponential Smoothing to create monthly flight passenger count forecasts for Jan 2017 and onward (37 months into the future) but use the following model parameters. Again fit models on the training data collected from Dec 2016 and prior. Store the new fits in `fit1` and `fit2` and new prediction in `pred1` and `pred2`. Is the forecast better when the model recommends parameters or with these values?\n",
    "\n",
    "\n",
    "Use Triple Exponential Smoothing \n",
    "\n",
    "- `trend` = [FROM PART A]\n",
    "- `seasonal` = [FROM PART A]\n",
    "- `seasonal_periods` = ?\n",
    "- `smoothing_level` = 0.0001 for pred1, 0.1 for pred2\n",
    "- `smoothing_slope` = 0.0001 for pred1, 0.1 for pred2\n",
    "- `smoothing_seasonal` = 0.0001 for pred1, 0.1 for pred2\n",
    "\n",
    "\n",
    "<!--\n",
    "BEGIN QUESTION\n",
    "name: q2b\n",
    "manual: true\n",
    "points: 12\n",
    "-->\n",
    "<!-- EXPORT TO PDF -->"
   ]
  },
  {
   "cell_type": "code",
   "execution_count": 17,
   "metadata": {
    "colab": {
     "base_uri": "https://localhost:8080/",
     "height": 276
    },
    "id": "jx2dJ3GUVTnS",
    "outputId": "7c6f845e-d39b-427d-f821-ed31b7ef2dd8"
   },
   "outputs": [],
   "source": [
    "from statsmodels.tsa.holtwinters import ExponentialSmoothing\n",
    "\n",
    "\n",
    "### YOUR CODE HERE\n",
    "\n",
    "# Fit models\n",
    "fit1 = ...\n",
    "fit2 = ...\n",
    "\n",
    "# Forecast \n",
    "pred1 = ...\n",
    "pred2 = ...\n",
    "\n",
    "\n",
    "plt.plot(pred, label = 'alpha, beta, gamma = recommended')\n",
    "plt.plot(pred1, label = 'alpha, beta, gamma = 0.0001')\n",
    "plt.plot(pred2, label = 'alpha, beta, gamma = 0.1')\n",
    "plt.plot(flight['Passenger Count'])\n",
    "plt.legend();"
   ]
  },
  {
   "cell_type": "code",
   "execution_count": null,
   "metadata": {
    "deletable": false,
    "editable": false
   },
   "outputs": [],
   "source": [
    "grader.check(\"q2b\")"
   ]
  },
  {
   "cell_type": "markdown",
   "metadata": {
    "deletable": false,
    "editable": false,
    "id": "_Ef_OO1aVTnT"
   },
   "source": [
    "### 2.c Sweep the Parameter\n",
    "Calculate the MAPE as the `smoothing_slope` parameter changes from 0.01 to 1 in intervals of 0.01. Other two parameters remain `0.1`. Train your model on all data from Dec 2016 and prior. Calculate the MAPE by comparing the 37 months of forecasts to the test set (Jan 2017 and onward). Record the MAPE values in a list called `mapes` where the first element is calculated with beta = 0.01 and the last value is calculated with beta = 1.\n",
    "\n",
    "<!--\n",
    "BEGIN QUESTION\n",
    "name: q2c\n",
    "manual: true\n",
    "points: 12\n",
    "-->\n",
    "<!-- EXPORT TO PDF -->"
   ]
  },
  {
   "cell_type": "code",
   "execution_count": 21,
   "metadata": {
    "colab": {
     "base_uri": "https://localhost:8080/"
    },
    "id": "O4LjLjqjVTnT",
    "outputId": "b94db88e-b11f-4e75-a9f0-44fd9e8a3b2b"
   },
   "outputs": [],
   "source": [
    "### YOUR CODE HERE ###\n",
    "\n",
    "def score_train_model(model, beta):\n",
    "    # Fit model\n",
    "    fit = ...\n",
    "\n",
    "    # Forecast\n",
    "    pred = ...\n",
    "    return get_mape(test['Passenger Count'], pred)\n",
    "\n",
    "\n",
    "model = ...\n",
    "\n",
    "mapes = ...\n",
    "betas = ...\n",
    "for b in betas:\n",
    "    score = ...\n",
    "    mapes.append(score)"
   ]
  },
  {
   "cell_type": "code",
   "execution_count": null,
   "metadata": {
    "deletable": false,
    "editable": false
   },
   "outputs": [],
   "source": [
    "grader.check(\"q2c\")"
   ]
  },
  {
   "cell_type": "markdown",
   "metadata": {
    "id": "PG2N0IIgVTnX"
   },
   "source": [
    "We'll plot the error below. We should see that the error is minimized when beta is between about 0.6 and 0.8. A similar searching method can be used to select the other parameter values."
   ]
  },
  {
   "cell_type": "code",
   "execution_count": 25,
   "metadata": {
    "colab": {
     "base_uri": "https://localhost:8080/",
     "height": 295
    },
    "id": "MGg0xSAGVTnY",
    "outputId": "42f9c54c-e18e-4416-d5e5-96a3ed7068dd"
   },
   "outputs": [],
   "source": [
    "#Plot MAPE against Betas\n",
    "plt.plot(betas, mapes)\n",
    "plt.xlabel('Betas')\n",
    "plt.ylabel('MAPE')\n",
    "plt.title('Mean Absolute Percentage Error (MAPE) vs. Betas');"
   ]
  },
  {
   "cell_type": "markdown",
   "metadata": {
    "deletable": false,
    "editable": false,
    "id": "QhD7tFypVTnZ"
   },
   "source": [
    "## 3. Comparing ARIMA and SARIMA Models\n",
    "**(Total 36 points)**\n",
    "\n",
    "### 3.a ARIMA Model\n",
    "\n",
    "[ARIMA](https://machinelearningmastery.com/arima-for-time-series-forecasting-with-python/) stands for AutoRegressive Integrated Moving Average. The ARIMA model first removes autocorrelation in the time series and then uses a regression model to make a a forecast off of recent observations and forecast error.\n",
    "\n",
    "- `order`: a set of parameters `(p, d, q)` specifing the order of the autoregressive, moving average, and differencing terms.\n",
    "    - `p` : The number of past observations to use or autogressive order. (If you are forecasting for week 5 and p = 2, the model would use the week 3 and 4 time series values.)\n",
    "    - `d` : The order of differencing. The ARIMA model works best if the time series values are not correlated. This autocorrelation can be removed by taking each observation and subtracting the previous observation. (Subtract the week 1 value from week 2, subtract week 2 from week 3 and so on to create a new time series. If the new time series is still autocorrelated, we can repeat the differencing process again.)\n",
    "    - `q` : The order of the moving average term. The ARIMA model uses the error between the value the forecast model would have predicted and the actual observed value for past time series values. We use q to specify the number of past error terms to include in the model.\n",
    "\n",
    "Use an ARIMA model to forecast monthly flight passenger counts for Jan 2017 and onward (37 months into the future). Train the model on the data from Dec 2016 and prior. Use the following  parameters. Then plot the ARIMA forecast, test set, and training set.\n",
    "\n",
    "The `arima_pred` will be a tuple, and `arima_pred[0]` will be used to plot the forecast.\n",
    "\n",
    "\n",
    "\n",
    "- Autoregressive order = 1\n",
    "- Moving average order = 1\n",
    "- Differencing order = 1\n",
    "\n",
    "<!--\n",
    "BEGIN QUESTION\n",
    "name: q3a\n",
    "manual: true\n",
    "points: 12\n",
    "-->\n",
    "<!-- EXPORT TO PDF -->"
   ]
  },
  {
   "cell_type": "code",
   "execution_count": 26,
   "metadata": {
    "colab": {
     "base_uri": "https://localhost:8080/",
     "height": 348
    },
    "id": "UpFzax3wVTna",
    "outputId": "23727718-0f8f-4dcd-9605-f36874fd40d5"
   },
   "outputs": [],
   "source": [
    "from statsmodels.tsa.arima_model import ARIMA\n",
    "\n",
    "### YOUR CODE HERE ###\n",
    "\n",
    "# Define model\n",
    "model_arima = ...\n",
    "\n",
    "# Fit model\n",
    "model_arima_fit = ...\n",
    "\n",
    "# Create forecasts\n",
    "arima_pred = ...\n",
    "\n",
    "# Plot forecast, test set, and training set\n",
    "...\n",
    "..."
   ]
  },
  {
   "cell_type": "code",
   "execution_count": null,
   "metadata": {
    "deletable": false,
    "editable": false
   },
   "outputs": [],
   "source": [
    "grader.check(\"q3a\")"
   ]
  },
  {
   "cell_type": "markdown",
   "metadata": {
    "deletable": false,
    "editable": false,
    "id": "MW8ilpHUVTnc"
   },
   "source": [
    "### 3.b SARIMA Model\n",
    "\n",
    "[SARIMA](https://machinelearningmastery.com/sarima-for-time-series-forecasting-in-python/) stands for Seasonal AutoRegressive Integrated Moving Average. The SARIMA model is the same as the ARIMA model, however, it accounts for seasonality by looking at the corresponding observations across cycles. For example to forecast next December, the SARIMA model might use the value from the last few Decembers, perform differencing over past December observations, and use historical December errors. \n",
    "\n",
    "- `order`: a set of parameters `(p, d, q)` specifing the order of the autoregressive, moving average, and differencing terms. Same as the ARIMA model.\n",
    "- `seasonal_order`: a set of parameters `(P, D, Q, m)` for the seasonal cycles. The parameters (P,D,Q) have the same meaning as in the ARIMA models but for the seasonal components. \n",
    "    - `m` : Number of periods in a complete seasonal cycle. (Called seasonal_periods in triple exponential smoothing)\n",
    "\n",
    "Use a SARIMA model to forecast monthly flight passenger counts for Jan 2017 and onward (37 months into the future). Train the model on the data from Dec 2016 and prior. Use the following parameters. Then plot the ARIMA forecast, test set, and training set.\n",
    "\n",
    "\n",
    "- Differencing order = 1\n",
    "- Autoregressive order = 1\n",
    "- Moving average order = 1\n",
    "- Seasonal differencing order = 1\n",
    "- Seasonal autoregressive order = 1\n",
    "- Seasonal moving average order = 1\n",
    "\n",
    "<!--\n",
    "BEGIN QUESTION\n",
    "name: q3b\n",
    "manual: true\n",
    "points: 12\n",
    "-->\n",
    "<!-- EXPORT TO PDF -->"
   ]
  },
  {
   "cell_type": "code",
   "execution_count": 29,
   "metadata": {
    "colab": {
     "base_uri": "https://localhost:8080/",
     "height": 366
    },
    "id": "9G6dS5pQVTnd",
    "outputId": "91e7b51b-3696-4129-9eee-f285823a8377"
   },
   "outputs": [],
   "source": [
    "from statsmodels.tsa.statespace.sarimax import SARIMAX\n",
    "\n",
    "### YOUR CODE HERE ###\n",
    "# Define model\n",
    "model_sarimax = ...\n",
    "\n",
    "# Fit model\n",
    "model_sarimax_fit = ...\n",
    "\n",
    "# Create forecasts\n",
    "sarima_pred = ...\n",
    "\n",
    "\n",
    "# Plot forecast, test set, and training set\n",
    "plt.plot(sarima_pred, c = 'r')\n",
    "plt.plot(flight['Passenger Count'], c = 'b')"
   ]
  },
  {
   "cell_type": "code",
   "execution_count": null,
   "metadata": {
    "deletable": false,
    "editable": false
   },
   "outputs": [],
   "source": [
    "grader.check(\"q3b\")"
   ]
  },
  {
   "cell_type": "markdown",
   "metadata": {
    "deletable": false,
    "editable": false,
    "id": "jCMAKxg1VTnf"
   },
   "source": [
    "### 3.c ARIMA and SARIMA MAPE Comparison\n",
    "C. Calculate the MAPE of the ARIMA and SARIMA forecasts by comparing the 37 months of forecasts to the test set.\n",
    "\n",
    "<!--\n",
    "BEGIN QUESTION\n",
    "name: q3c\n",
    "manual: true\n",
    "points: 12\n",
    "-->\n",
    "\n",
    "<!-- EXPORT TO PDF -->"
   ]
  },
  {
   "cell_type": "code",
   "execution_count": 32,
   "metadata": {
    "colab": {
     "base_uri": "https://localhost:8080/"
    },
    "id": "i65h6xBnVTnf",
    "outputId": "380e3597-402c-4291-acc0-bf7a4190aa69"
   },
   "outputs": [],
   "source": [
    "### YOUR CODE HERE ###\n",
    "\n",
    "arima_mape = ...\n",
    "sarima_mape = ...\n",
    "\n",
    "print('ARIMA MAPE: ', arima_mape)\n",
    "print('SARIMA MAPE: ', sarima_mape)"
   ]
  },
  {
   "cell_type": "code",
   "execution_count": null,
   "metadata": {
    "deletable": false,
    "editable": false
   },
   "outputs": [],
   "source": [
    "grader.check(\"q3c\")"
   ]
  },
  {
   "cell_type": "markdown",
   "metadata": {
    "id": "1ZMG82omVTnj"
   },
   "source": [
    "## 4. Holiday Effects with Facebook's Prophet library\n",
    "\n",
    "**(Total 37 points)**\n",
    "\n",
    "Prophet is open source library for time series forecasting developed by Facebook. Prophet builds a model composed of a trend seasonality, and holiday components by fitting a curve through the time series data points.\n",
    "\n",
    "Unique features include:\n",
    "- Adding holiday effects (Superbowl, Christmas, New Years, 4th of July)\n",
    "- Specify points where the trend change\n",
    "- Adust seasonality smoothness\n",
    "- Robust to missing values\n",
    "\n",
    "\"Prophet is a procedure for forecasting time series data based on an additive model where non-linear trends are fit with yearly, weekly, and daily seasonality, plus holiday effects. It works best with time series that have strong seasonal effects and several seasons of historical data. Prophet is robust to missing data and shifts in the trend, and typically handles outliers well.\" - https://github.com/facebook/prophet\n",
    "\n",
    "\n",
    "Now we will use a new dataset that contains the total number of users on the [Steam platform](https://steamdb.info/app/753/graphs/) since 2004, daily periodicity. However, the dataset has lots of missing values in the first several years. Let's first read the dataset."
   ]
  },
  {
   "cell_type": "code",
   "execution_count": 37,
   "metadata": {
    "colab": {
     "base_uri": "https://localhost:8080/",
     "height": 450
    },
    "id": "GcgUbsSW61ov",
    "outputId": "76c66d52-cb16-4739-eec7-5bee583cb1a4"
   },
   "outputs": [],
   "source": [
    "steam_stat = pd.read_csv('Steam_Players.csv')\n",
    "steam_stat['Date'] = pd.to_datetime(steam_stat['DateTime'])\n",
    "steam = steam_stat[['Date','Users']].set_index('Date')\n",
    "display(steam)"
   ]
  },
  {
   "cell_type": "markdown",
   "metadata": {
    "id": "ERIdu9gg8T2b"
   },
   "source": [
    "Plot the number of users to understand the trend and seasonality."
   ]
  },
  {
   "cell_type": "code",
   "execution_count": 38,
   "metadata": {
    "colab": {
     "base_uri": "https://localhost:8080/",
     "height": 281
    },
    "id": "h0VsipVU8UIc",
    "outputId": "d90ebced-f181-4c50-8117-aaea94a87a39"
   },
   "outputs": [],
   "source": [
    "plt.title('Steam Platform Users')\n",
    "plt.ylabel('Users')\n",
    "plt.plot(steam['Users']);"
   ]
  },
  {
   "cell_type": "markdown",
   "metadata": {
    "id": "Um9sf8LqR9YG"
   },
   "source": [
    "Similarly, let us only consider the data before the pandemic, that is, February 1st, 2020. We will use the data before 2017 as the training data, and after that as test data. "
   ]
  },
  {
   "cell_type": "code",
   "execution_count": 39,
   "metadata": {
    "colab": {
     "base_uri": "https://localhost:8080/"
    },
    "id": "Vv-cfP6sNYOl",
    "outputId": "21d1489a-f892-4ba1-a618-f28941bd0017"
   },
   "outputs": [],
   "source": [
    "steam = steam[steam.index < '2020-02-01']\n",
    "steam_train = steam[steam.index <= '2016-12-31']\n",
    "steam_test = steam[steam.index >= '2017-01-01']\n",
    "print(steam.shape, steam_train.shape, steam_test.shape)"
   ]
  },
  {
   "cell_type": "markdown",
   "metadata": {
    "deletable": false,
    "editable": false,
    "id": "HGy3xkg3VTnk"
   },
   "source": [
    "### 4.a Prophet Basics\n",
    "Use Prophet to forecast steam users for 01/01/2017 and onward (1126 days into the future). Train the model on the data from 12/31/2016 and before. Use Prophet's default parameters. Report the forecasts as `prophet_forecast`, a dataframe with 5863 forecasts (including forecasts of training data) where the column 'ds' stores the dates and the column 'yhat' stores the forecast values.\n",
    "\n",
    "<!--\n",
    "BEGIN QUESTION\n",
    "name: q4a\n",
    "manual: true\n",
    "points: 12\n",
    "-->\n",
    "<!-- EXPORT TO PDF -->"
   ]
  },
  {
   "cell_type": "code",
   "execution_count": 40,
   "metadata": {
    "colab": {
     "base_uri": "https://localhost:8080/",
     "height": 459
    },
    "id": "1rJvuMflVTnk",
    "outputId": "b6d26d10-71d1-4c26-a3b6-8e2eabf2b6aa"
   },
   "outputs": [],
   "source": [
    "from fbprophet import Prophet\n",
    "\n",
    "# Prophet requires the time series to be a 2 column data series with the Date as 'ds' and the values as 'y'.\n",
    "\n",
    "steam_prophet = ...\n",
    "\n",
    "\n",
    "# Fit the model on the time series.\n",
    "m_prophet = ...\n",
    "...\n",
    "\n",
    "# Create a DataFrame of future dates to create forecasts for. \n",
    "future_prophet = ...\n",
    "\n",
    "# Create forecast\n",
    "prophet_forecast = ...\n",
    "\n",
    "fig1 = m_prophet.plot(prophet_forecast)\n",
    "plt.plot(steam['Users'], c = 'y')"
   ]
  },
  {
   "cell_type": "code",
   "execution_count": null,
   "metadata": {
    "deletable": false,
    "editable": false
   },
   "outputs": [],
   "source": [
    "grader.check(\"q4a\")"
   ]
  },
  {
   "cell_type": "markdown",
   "metadata": {
    "id": "ABlT9z2mkTmK"
   },
   "source": [
    "We can use the prophet_plot_components function to see the forecast broken down into trend, weekly seasonality, and yearly seasonality."
   ]
  },
  {
   "cell_type": "code",
   "execution_count": 44,
   "metadata": {
    "colab": {
     "base_uri": "https://localhost:8080/",
     "height": 657
    },
    "id": "nrRKHNNiXJXl",
    "outputId": "b50bb329-14fc-4394-de8a-8441e83594bd"
   },
   "outputs": [],
   "source": [
    "fig2 = m_prophet.plot_components(prophet_forecast)"
   ]
  },
  {
   "cell_type": "markdown",
   "metadata": {
    "deletable": false,
    "editable": false,
    "id": "MCzIJWy3VTnm"
   },
   "source": [
    "### 4.b Add Holiday Impact\n",
    "Use Prophet to forecast steam users again for 01/01/2017 and onward (1126 days into the future), but now add the Steam's yearly major sale: Winter Sale to the model. The Winter Sale dates are: 2007-12-24, 2008-12-26, 2009-12-22, 2010-12-20, 2011-12-19, 2012-12-20, 2013-12-19, 2014-12-18, 2015-12-22, 2016-12-22,  2017-12-21, 2018-12-20, and 2019-12-19. In average, the Winter Sale lasts for 10 days.\n",
    "\n",
    "We might also expect that user numbers are affected by holidays. Prophet allows us to add all US Holidays at once to the model.\n",
    "\n",
    "\n",
    "Train the model on the data from 12/31/2016 and before, and add US holidays and Steam Winter Sales into your model. Use Prophet's default parameters for all other model features. Report the new forecasts as `prophet_forecast_holidays`, a dataframe with 5863 forecasts (including forecasts of training data) where the column 'ds' stores the dates and the column 'yhat' stores the forecast values.\n",
    "\n",
    "\n",
    "<!--\n",
    "BEGIN QUESTION\n",
    "name: q4b\n",
    "manual: true\n",
    "points: 15\n",
    "-->\n",
    "<!-- EXPORT TO PDF -->"
   ]
  },
  {
   "cell_type": "code",
   "execution_count": 45,
   "metadata": {
    "colab": {
     "base_uri": "https://localhost:8080/",
     "height": 477
    },
    "id": "-BouPANXVTnm",
    "outputId": "83d9e0a9-6cad-4344-b3f1-cd690c1d80ef"
   },
   "outputs": [],
   "source": [
    "### YOUR CODE HERE ###\n",
    "\n",
    "holidays = ...\n",
    "  ...\n",
    "  ...\n",
    "  ...\n",
    "  ...\n",
    "...\n",
    "\n",
    "\n",
    "m_prophet_holidays = ...\n",
    "\n",
    "...\n",
    "\n",
    "...\n",
    "\n",
    "future_holidays = ...\n",
    "\n",
    "prophet_forecast_holidays = ...\n",
    "\n",
    "fig2 = m_prophet_holidays.plot(prophet_forecast_holidays) \n",
    "plt.plot(steam['Users'], c = 'y')"
   ]
  },
  {
   "cell_type": "code",
   "execution_count": null,
   "metadata": {
    "deletable": false,
    "editable": false
   },
   "outputs": [],
   "source": [
    "grader.check(\"q4b\")"
   ]
  },
  {
   "cell_type": "markdown",
   "metadata": {
    "deletable": false,
    "editable": false,
    "id": "9Rm8JRVHVTnq"
   },
   "source": [
    "### 4.c Compare MAPE\n",
    "Calculate the MAPE of the Prophet model before account for holidays and after adding holidays. The MAPE should be calculated by comparing the 1126 days of forecasts to the test set.\n",
    "\n",
    "<!--\n",
    "BEGIN QUESTION\n",
    "name: q4c\n",
    "manual: true\n",
    "points: 10\n",
    "-->\n",
    "<!-- EXPORT TO PDF -->"
   ]
  },
  {
   "cell_type": "code",
   "execution_count": 50,
   "metadata": {
    "colab": {
     "base_uri": "https://localhost:8080/"
    },
    "id": "ggn9zCf1VTnr",
    "outputId": "b627e392-8432-44fd-f12a-c5c73b17a281"
   },
   "outputs": [],
   "source": [
    "prophet_forecast = prophet_forecast.reset_index().rename(columns = {'ds':'Date', 'yhat':'Users'})\n",
    "prophet_forecast = prophet_forecast.set_index('Date')\n",
    "prophet_forecast_holidays=prophet_forecast_holidays.reset_index().rename(columns = {'ds':'Date', 'yhat':'Users'})\n",
    "prophet_forecast_holidays = prophet_forecast_holidays.set_index('Date')\n",
    "\n",
    "prophet_mape = ...\n",
    "prophet_holiday_mape = ...\n",
    "\n",
    "print('Original Prophet MAPE: ', prophet_mape)\n",
    "print('Prophet MAPE with Holidays: ', prophet_holiday_mape)\n"
   ]
  },
  {
   "cell_type": "code",
   "execution_count": null,
   "metadata": {
    "deletable": false,
    "editable": false
   },
   "outputs": [],
   "source": [
    "grader.check(\"q4c\")"
   ]
  },
  {
   "cell_type": "code",
   "execution_count": null,
   "metadata": {},
   "outputs": [],
   "source": []
  },
  {
   "cell_type": "markdown",
   "metadata": {
    "deletable": false,
    "editable": false
   },
   "source": [
    "# Submit\n",
    "Make sure you have run all cells in your notebook in order before running the cell below, so that all images/graphs appear in the output.\n",
    "**Please save before submitting!**\n",
    "\n",
    "<!-- EXPECT 10 EXPORTED QUESTIONS -->"
   ]
  }
 ],
 "metadata": {
  "colab": {
   "collapsed_sections": [],
   "name": "HW3_TimeSeries.ipynb",
   "provenance": [],
   "toc_visible": true
  },
  "kernelspec": {
   "display_name": "Python 3",
   "language": "python",
   "name": "python3"
  },
  "language_info": {
   "codemirror_mode": {
    "name": "ipython",
    "version": 3
   },
   "file_extension": ".py",
   "mimetype": "text/x-python",
   "name": "python",
   "nbconvert_exporter": "python",
   "pygments_lexer": "ipython3",
   "version": "3.8.5"
  }
 },
 "nbformat": 4,
 "nbformat_minor": 1
}
