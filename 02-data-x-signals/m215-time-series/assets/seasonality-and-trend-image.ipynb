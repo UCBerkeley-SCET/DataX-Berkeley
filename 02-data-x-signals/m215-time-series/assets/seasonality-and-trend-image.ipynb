{
 "cells": [
  {
   "cell_type": "markdown",
   "metadata": {},
   "source": [
    "# Generate Trend and Types of Seasonality Diagram"
   ]
  },
  {
   "cell_type": "code",
   "execution_count": 1,
   "metadata": {},
   "outputs": [],
   "source": [
    "import pandas as pd\n",
    "import matplotlib.pyplot as plt\n",
    "import seaborn as sns\n",
    "import numpy as np\n",
    "import warnings"
   ]
  },
  {
   "cell_type": "code",
   "execution_count": 2,
   "metadata": {},
   "outputs": [],
   "source": [
    "trend_types = pd.read_csv('trend_types.csv')\n",
    "\n",
    "fig, axes = plt.subplots(nrows=2, ncols=2, figsize=(10, 5), dpi = 400)\n",
    "axes[0,0].plot(trend_types['trend-mult'])\n",
    "axes[0,0].set_title('Multiplicative')\n",
    "axes[0,0].set_ylabel('Multiplicative', fontdict = {'fontsize':11.5} )\n",
    "\n",
    "axes[0,1].plot(trend_types['trend-add'])\n",
    "axes[0,1].set_title('Additive')\n",
    "\n",
    "axes[1,0].plot(trend_types['seasonality-mult'])\n",
    "axes[1,0].set_ylabel('Additive', fontdict = {'fontsize':11.5} )\n",
    "axes[1,1].plot(trend_types['seasonality-add'])\n",
    "\n",
    "fig.text(-.01, 0.5, 'Trend', ha='center', va='center', rotation='vertical',fontdict = {'fontsize':15})\n",
    "fig.text(0.53, 1.01, 'Seasonality', ha='center', va='top',fontdict = {'fontsize':15});\n",
    "fig.tight_layout()\n",
    "fig.savefig('seasonality-and-trend-types.png', bbox_inches=\"tight\")"
   ]
  },
  {
   "cell_type": "code",
   "execution_count": null,
   "metadata": {},
   "outputs": [],
   "source": []
  }
 ],
 "metadata": {
  "kernelspec": {
   "display_name": "Python 3",
   "language": "python",
   "name": "python3"
  },
  "language_info": {
   "codemirror_mode": {
    "name": "ipython",
    "version": 3
   },
   "file_extension": ".py",
   "mimetype": "text/x-python",
   "name": "python",
   "nbconvert_exporter": "python",
   "pygments_lexer": "ipython3",
   "version": "3.7.4"
  }
 },
 "nbformat": 4,
 "nbformat_minor": 2
}
